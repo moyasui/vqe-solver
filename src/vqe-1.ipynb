{
 "cells": [
  {
   "cell_type": "code",
   "execution_count": 3,
   "metadata": {},
   "outputs": [],
   "source": [
    "from base import *\n",
    "from utils import *\n",
    "from plot_tools import *\n",
    "import qiskit as qk\n",
    "from qiskit import QuantumCircuit, Aer, execute\n",
    "from qiskit.primitives import Estimator\n",
    "# from qiskit.utils import QuantumInstance\n",
    "# from qiskit.algorithms import VQE\n",
    "from qiskit.algorithms.minimum_eigensolvers import VQE\n",
    "from qiskit.algorithms.optimizers import SLSQP, ADAM\n",
    "from qiskit.opflow import PauliSumOp, AerPauliExpectation\n",
    "from qiskit.circuit import Parameter\n",
    "import numpy as np\n",
    "import seaborn as sns\n",
    "\n"
   ]
  },
  {
   "attachments": {},
   "cell_type": "markdown",
   "metadata": {},
   "source": [
    "## The simple hamiltonian\n",
    "$$\n",
    "H_0 = \\mathcal{E} I + \\Omega \\sigma_z, \\quad \\mathcal{E} = \\frac{E_1\n",
    "  + E_2}{2}, \\; \\Omega = \\frac{E_1-E_2}{2},\n",
    "$$\n",
    "$$\n",
    "H_I = c \\boldsymbol{I} +\\omega_z\\sigma_z + \\omega_x\\sigma_x,\n",
    "$$\n",
    "$$\n",
    "c = (V_{11}+V_{22})/2, \n",
    "$$ \n",
    "$$\n",
    "\\omega_z = (V_{11}-V_{22})/2, \n",
    "$$\n",
    "$$\n",
    "\\omega_x = V_{12}=V_{21}\n",
    "$$"
   ]
  },
  {
   "cell_type": "code",
   "execution_count": 4,
   "metadata": {},
   "outputs": [],
   "source": [
    "# Constants\n",
    "E_1 = 0\n",
    "E_2 = 4 \n",
    "V_11 = 3\n",
    "V_22 = -3\n",
    "V_12 = 0.2\n",
    "V_21 = 0.2\n",
    "epsilon = (E_1+E_2) / 2\n",
    "Omega = (E_1-E_2) / 2\n",
    "c = (V_11 + V_22) / 2\n",
    "omega_z = (V_11 - V_22) / 2\n",
    "omega_x = V_12\n",
    "\n",
    "# Variables\n",
    "# lmb = 1 # Interaction strength\n"
   ]
  },
  {
   "attachments": {},
   "cell_type": "markdown",
   "metadata": {},
   "source": [
    "### Classical numerical solver for the eigenvalues"
   ]
  },
  {
   "cell_type": "code",
   "execution_count": 5,
   "metadata": {},
   "outputs": [],
   "source": [
    "H_0 = np.array([[E_1, 0],\n",
    "               [0, E_2]])\n",
    "H_1 = np.array([[V_11, V_12],\n",
    "               [V_21, V_22]])\n",
    "\n",
    "\n",
    "lmbs = np.arange(0, 1, 0.001)\n",
    "eigs = np.zeros((2, len(lmbs)))\n",
    "\n",
    "for i, lmb in enumerate(lmbs):\n",
    "    result = np.linalg.eig(H_0 + lmb * H_1)[0]\n",
    "    eigs[:,i] = max(result), min(result)\n",
    "\n",
    "# print(eigs)\n",
    "# print(lmbs.shape)\n",
    "plt.plot(lmbs, eigs[0], label='E_0')\n",
    "plt.plot(lmbs, eigs[1], label='E_1')\n",
    "plt.plot(np.array([2/3 for _ in range(100)]), np.linspace(0, 4, 100), label=r'$\\lambda=2/3$'),\n",
    "plt.xlabel(r'$\\lambda$')\n",
    "plt.ylabel(r'Eigenvalues')\n",
    "plt.legend()\n",
    "save_fig('eigs-cl.pdf')\n"
   ]
  },
  {
   "attachments": {},
   "cell_type": "markdown",
   "metadata": {},
   "source": [
    "### Quantum Computing \n",
    "\n",
    "First we need to rewrite the hamiltonian in terms of Pauli matrices.\n",
    "$$\n",
    "H_0 = \\mathcal{E} I + \\Omega \\sigma_z, \\quad \n",
    "\\mathcal{E} = \\frac{E_1+ E_2}{2}, \\; \\Omega = \\frac{E_1-E_2}{2},\n",
    "$$\n",
    "$$\n",
    "H_I = c \\boldsymbol{I} +\\omega_z\\sigma_z + \\omega_x\\sigma_x,\n",
    "$$\n",
    "$$\n",
    "\\lambda H_I = \\lambda c \\boldsymbol{I} + \\lambda \\omega_z\\sigma_z + \\lambda \\omega_x \\sigma_x \n",
    "$$\n",
    "$$\n",
    "H = H_0 + \\lambda H_I = \\left( \\mathcal{E} + \\lambda c \\right) I + (\\Omega + \\lambda \\omega_z)\\sigma_z + (\\lambda \\omega_x)\\sigma_x\n",
    "$$"
   ]
  },
  {
   "cell_type": "code",
   "execution_count": 6,
   "metadata": {},
   "outputs": [
    {
     "data": {
      "text/plain": [
       "[(462, '00'), (0, '01'), (538, '10'), (0, '11')]"
      ]
     },
     "execution_count": 6,
     "metadata": {},
     "output_type": "execute_result"
    }
   ],
   "source": [
    "q2 = Qubits_2()\n",
    "\n",
    "# set up bell state\n",
    "q2.hadamard(0)\n",
    "q2.measure(1000)"
   ]
  },
  {
   "attachments": {},
   "cell_type": "markdown",
   "metadata": {},
   "source": [
    "Set up"
   ]
  },
  {
   "cell_type": "code",
   "execution_count": 7,
   "metadata": {},
   "outputs": [],
   "source": [
    "\n",
    "def H(lmb):\n",
    "    return PauliSumOp.from_list([('X', lmb*omega_x), \n",
    "                                 ('Z', Omega+lmb*omega_z), \n",
    "                                 ('I', lmb*c+epsilon)]) # Hamiltonian using operators\n",
    "\n",
    "def ansatz():\n",
    "    # creates an ansatz that are functions of the parameters TODO: maybe can be changed to Hartree Fock initial state? \n",
    "    # from HartreeFock.construct_circuit()\n",
    "    theta = Parameter('theta')\n",
    "    phi = Parameter('phi')\n",
    "    qc = QuantumCircuit(1)\n",
    "    qc.rx(theta,0)\n",
    "    qc.ry(phi,0)\n",
    "    return qc\n",
    "\n",
    "\n",
    "def prep_vqe():\n",
    "    adam = ADAM(maxiter = 10000)\n",
    "    # backend = Aer.get_backend('qasm_simulator')\n",
    "    estimator = Estimator()\n",
    "\n",
    "    vqe = VQE(ansatz=ansatz(), \n",
    "              optimizer=adam, \n",
    "              initial_point=np.random.uniform(low=-np.pi, high=np.pi, size=2), \n",
    "              estimator=estimator)\n",
    "\n",
    "    return vqe\n",
    "# vqe is sucessful becuase we enbed 2 qubit gates which, which creates highly entangled states. \n",
    "# Allowing us to explore multiple states at the same time. thetas needed for an n_qubit state doesn't have to scale exponentially with the number of qubits, but only linearly.\n",
    "\n"
   ]
  },
  {
   "cell_type": "code",
   "execution_count": 8,
   "metadata": {},
   "outputs": [
    {
     "name": "stdout",
     "output_type": "stream",
     "text": [
      "0.0 * X\n",
      "- 2.0 * Z\n",
      "+ 2.0 * I\n",
      "lmb = 0.0, energy = 4.6904258255153763e-11\n",
      "0.020000000000000004 * X\n",
      "- 1.7 * Z\n",
      "+ 2.0 * I\n",
      "lmb = 0.1, energy = 0.2998823570417146\n",
      "0.04000000000000001 * X\n",
      "- 1.4 * Z\n",
      "+ 2.0 * I\n",
      "lmb = 0.2, energy = 0.5994286880149327\n",
      "0.06 * X\n",
      "- 1.1 * Z\n",
      "+ 2.0 * I\n",
      "lmb = 0.3, energy = 0.898364851709005\n",
      "0.08000000000000002 * X\n",
      "- 0.7999999999999998 * Z\n",
      "+ 2.0 * I\n",
      "lmb = 0.4, energy = 1.196009950326411\n",
      "0.1 * X\n",
      "- 0.5 * Z\n",
      "+ 2.0 * I\n",
      "lmb = 0.5, energy = 1.4900980486546627\n",
      "0.12 * X\n",
      "- 0.20000000000000018 * Z\n",
      "+ 2.0 * I\n",
      "lmb = 0.6, energy = 1.7667619242114903\n",
      "0.13999999999999999 * X\n",
      "+ 0.09999999999999964 * Z\n",
      "+ 2.0 * I\n",
      "lmb = 0.7, energy = 1.8279534946624456\n",
      "0.16000000000000003 * X\n",
      "+ 0.40000000000000036 * Z\n",
      "+ 2.0 * I\n",
      "lmb = 0.8, energy = 1.569186815441408\n",
      "0.18000000000000002 * X\n",
      "+ 0.7000000000000002 * Z\n",
      "+ 2.0 * I\n",
      "lmb = 0.9, energy = 1.2772275600305458\n"
     ]
    }
   ],
   "source": [
    "# Define the backend to run the quantum circuit\n",
    "n_points=10\n",
    "\n",
    "\n",
    "lmbs = np.arange(n_points) # rmb to divide when used\n",
    "vqe = prep_vqe()\n",
    "energies = np.zeros(n_points) # containers for the energies\n",
    "\n",
    "for i, lmb in enumerate(lmbs):\n",
    "    lmb = lmb / n_points\n",
    "    ham = H(lmb)\n",
    "    print(ham)\n",
    "    result = vqe.compute_minimum_eigenvalue(ham)\n",
    "    energies[i] = result.eigenvalue.real\n",
    "    print(f'lmb = {lmb}, energy = {result.eigenvalue.real}')\n",
    "\n",
    "\n"
   ]
  },
  {
   "cell_type": "code",
   "execution_count": 9,
   "metadata": {},
   "outputs": [
    {
     "data": {
      "image/png": "[encoded data removed]",
      "text/plain": [
       "<Figure size 640x480 with 1 Axes>"
      ]
     },
     "metadata": {},
     "output_type": "display_data"
    }
   ],
   "source": [
    "plt.plot(lmbs/n_points, energies)\n",
    "# save_fig('qk-1qb.pdf')\n",
    "plt.show()"
   ]
  },
  {
   "attachments": {},
   "cell_type": "markdown",
   "metadata": {},
   "source": [
    "With **src.base**\n",
    "$$\n",
    "H = H_0 + \\lambda H_I = \\left( \\mathcal{E} + \\lambda c \\right) I + (\\Omega + \\lambda \\omega_z)\\sigma_z + (\\lambda \\omega_x)\\sigma_x\n",
    "$$"
   ]
  },
  {
   "cell_type": "code",
   "execution_count": 10,
   "metadata": {},
   "outputs": [],
   "source": [
    "\n",
    "def my_ansatz(params):\n",
    "    '''params: list of parameters for the ansatz, [theta, phi]'''\n",
    "    qc = Qubit()\n",
    "    qc.rx(params[0], 0)\n",
    "    qc.ry(params[1], 0)\n",
    "    return qc\n",
    "\n",
    "def my_H(lmb):\n",
    "    # computes the hamiltonian\n",
    "    return pauli_sum([('X', lmb*omega_x), \n",
    "                      ('Z', Omega+lmb*omega_z), \n",
    "                      ('I', lmb*c+epsilon)])\n",
    "\n",
    "\n"
   ]
  },
  {
   "cell_type": "code",
   "execution_count": 11,
   "metadata": {},
   "outputs": [
    {
     "data": {
      "text/plain": [
       "Qubit(s) in state: \n",
       " 0.50+0.50j|0⟩ + 0.50-0.50j|1⟩ "
      ]
     },
     "execution_count": 11,
     "metadata": {},
     "output_type": "execute_result"
    }
   ],
   "source": [
    "a = my_ansatz((np.pi/2,np.pi/2))\n",
    "a"
   ]
  },
  {
   "cell_type": "code",
   "execution_count": 12,
   "metadata": {},
   "outputs": [],
   "source": [
    "from algorithms import Vqe "
   ]
  },
  {
   "cell_type": "code",
   "execution_count": 13,
   "metadata": {},
   "outputs": [
    {
     "name": "stdout",
     "output_type": "stream",
     "text": [
      "0.0\n",
      "[[0. 0.]\n",
      " [0. 4.]]\n",
      "lambda: 0.0, energy: -3.99999999999881\n",
      "0.1\n",
      "[[0.3  0.02]\n",
      " [0.02 3.7 ]]\n",
      "lambda: 0.1, energy: -3.700117642988245\n",
      "0.2\n",
      "[[0.6  0.04]\n",
      " [0.04 3.4 ]]\n",
      "lambda: 0.2, energy: -3.4005713120009275\n",
      "0.3\n",
      "[[0.9  0.06]\n",
      " [0.06 3.1 ]]\n",
      "lambda: 0.3, energy: -3.1016351483136195\n",
      "0.4\n",
      "[[1.2  0.08]\n",
      " [0.08 2.8 ]]\n",
      "lambda: 0.4, energy: -2.803990049689671\n",
      "0.5\n",
      "[[1.5 0.1]\n",
      " [0.1 2.5]]\n",
      "lambda: 0.5, energy: -2.5099019513592746\n",
      "0.6\n",
      "[[1.8  0.12]\n",
      " [0.12 2.2 ]]\n",
      "lambda: 0.6, energy: -2.2332380757925585\n",
      "0.7\n",
      "[[2.1  0.14]\n",
      " [0.14 1.9 ]]\n",
      "lambda: 0.7, energy: -2.172046505339981\n",
      "0.8\n",
      "[[2.4  0.16]\n",
      " [0.16 1.6 ]]\n",
      "lambda: 0.8, energy: -2.430813184570364\n",
      "0.9\n",
      "[[2.7  0.18]\n",
      " [0.18 1.3 ]]\n",
      "lambda: 0.9, energy: -2.722772439982577\n"
     ]
    },
    {
     "name": "stderr",
     "output_type": "stream",
     "text": [
      "/Users/bukser/mambaforge/envs/qiskit/lib/python3.8/site-packages/scipy/optimize/_numdiff.py:598: ComplexWarning: Casting complex values to real discards the imaginary part\n",
      "  J_transposed[i] = df / dx\n",
      "/Users/bukser/mambaforge/envs/qiskit/lib/python3.8/site-packages/scipy/optimize/_linesearch.py:155: ComplexWarning: Casting complex values to real discards the imaginary part\n",
      "  stp, phi1, derphi1, task = minpack2.dcsrch(alpha1, phi1, derphi1,\n"
     ]
    }
   ],
   "source": [
    "n_points = 10\n",
    "\n",
    "init_points = np.random.uniform(low=-np.pi, high=np.pi, size=2)\n",
    "my_vqe = Vqe(my_ansatz, init_points)\n",
    "\n",
    "my_energies = np.zeros(n_points)\n",
    "lmbs = np.arange(n_points)\n",
    "for i, lmb in enumerate(lmbs):\n",
    "    lmb = lmb / n_points\n",
    "    print(lmb)\n",
    "    my_ham = my_H(lmb)\n",
    "    print(my_ham)\n",
    "    min_params, min_energy = my_vqe.minimise_eigenvalue(my_ham)\n",
    "    print(f\"lambda: {lmb}, energy: {min_energy}\")\n",
    "    my_energies[i] = min_energy\n",
    "\n",
    "#TODO: why does it need to be adjusted?\n",
    "if min(my_energies) < 0:\n",
    "    my_energies += -min(my_energies)\n"
   ]
  },
  {
   "cell_type": "code",
   "execution_count": 14,
   "metadata": {},
   "outputs": [
    {
     "data": {
      "image/png": "[encoded data removed]",
      "text/plain": [
       "<Figure size 640x480 with 1 Axes>"
      ]
     },
     "metadata": {},
     "output_type": "display_data"
    }
   ],
   "source": [
    "\n",
    "plt.plot(lmbs/n_points, my_energies, label='vqe-base')\n",
    "plt.plot(lmbs/n_points, energies, label='vqe-qk')\n",
    "# plt.plot(2/3* np.ones(n_points), np.linspace(min(my_energies), 1.01*max(my_energies), n_points), label=r'$\\lambda=2/3$')\n",
    "\n",
    "plt.xlabel(r'$\\lambda$')\n",
    "plt.ylabel('Eigenvalues')\n",
    "plt.title('VQE Base')\n",
    "plt.legend()\n",
    "plt.show()"
   ]
  },
  {
   "attachments": {},
   "cell_type": "markdown",
   "metadata": {},
   "source": []
  },
  {
   "attachments": {},
   "cell_type": "markdown",
   "metadata": {},
   "source": []
  },
  {
   "cell_type": "code",
   "execution_count": null,
   "metadata": {},
   "outputs": [],
   "source": []
  }
 ],
 "metadata": {
  "kernelspec": {
   "display_name": "qiskit",
   "language": "python",
   "name": "python3"
  },
  "language_info": {
   "codemirror_mode": {
    "name": "ipython",
    "version": 3
   },
   "file_extension": ".py",
   "mimetype": "text/x-python",
   "name": "python",
   "nbconvert_exporter": "python",
   "pygments_lexer": "ipython3",
   "version": "3.8.16"
  },
  "orig_nbformat": 4
 },
 "nbformat": 4,
 "nbformat_minor": 2
}
