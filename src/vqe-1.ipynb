{
 "cells": [
  {
   "cell_type": "code",
   "execution_count": 1,
   "metadata": {},
   "outputs": [],
   "source": [
    "from base import *\n",
    "from utils import *\n",
    "from plot_tools import *\n",
    "import plot_utils\n",
    "import qiskit as qk\n",
    "from qiskit import QuantumCircuit, Aer, execute\n",
    "from qiskit.primitives import Estimator\n",
    "# from qiskit.utils import QuantumInstance\n",
    "# from qiskit.algorithms import VQE\n",
    "from qiskit.algorithms.minimum_eigensolvers import VQE\n",
    "from qiskit.algorithms.optimizers import SLSQP, ADAM\n",
    "from qiskit.opflow import PauliSumOp, AerPauliExpectation\n",
    "from qiskit.circuit import Parameter\n",
    "import numpy as np\n",
    "\n",
    "\n"
   ]
  },
  {
   "attachments": {},
   "cell_type": "markdown",
   "metadata": {},
   "source": [
    "## The simple hamiltonian\n",
    "$$\n",
    "H_0 = \\mathcal{E} I + \\Omega \\sigma_z, \\quad \\mathcal{E} = \\frac{E_1\n",
    "  + E_2}{2}, \\; \\Omega = \\frac{E_1-E_2}{2},\n",
    "$$\n",
    "$$\n",
    "H_I = c \\boldsymbol{I} +\\omega_z\\sigma_z + \\omega_x\\sigma_x,\n",
    "$$\n",
    "$$\n",
    "c = (V_{11}+V_{22})/2, \n",
    "$$ \n",
    "$$\n",
    "\\omega_z = (V_{11}-V_{22})/2, \n",
    "$$\n",
    "$$\n",
    "\\omega_x = V_{12}=V_{21}\n",
    "$$"
   ]
  },
  {
   "cell_type": "code",
   "execution_count": 2,
   "metadata": {},
   "outputs": [],
   "source": [
    "# Constants\n",
    "E_1 = 0\n",
    "E_2 = 4 \n",
    "V_11 = 3\n",
    "V_22 = -3\n",
    "V_12 = 0.2\n",
    "V_21 = 0.2\n",
    "epsilon = (E_1+E_2) / 2\n",
    "Omega = (E_1-E_2) / 2\n",
    "c = (V_11 + V_22) / 2\n",
    "omega_z = (V_11 - V_22) / 2\n",
    "omega_x = V_12\n",
    "\n",
    "# Variables\n",
    "# lmb = 1 # Interaction strength\n"
   ]
  },
  {
   "attachments": {},
   "cell_type": "markdown",
   "metadata": {},
   "source": [
    "### Classical numerical solver for the eigenvalues"
   ]
  },
  {
   "cell_type": "code",
   "execution_count": 3,
   "metadata": {},
   "outputs": [],
   "source": [
    "H_0 = np.array([[E_1, 0],\n",
    "               [0, E_2]])\n",
    "H_1 = np.array([[V_11, V_12],\n",
    "               [V_21, V_22]])\n",
    "\n",
    "\n",
    "lmbs = np.arange(0, 1, 0.01)\n",
    "eigs = np.zeros((2, len(lmbs)))\n",
    "\n",
    "for i, lmb in enumerate(lmbs):\n",
    "    result = np.linalg.eig(H_0 + lmb * H_1)[0]\n",
    "    eigs[:,i] = max(result), min(result)\n",
    "\n",
    "# print(eigs)\n",
    "# print(lmbs.shape)\n",
    "plot_2D(lmbs, eigs, plot_count=2, label=[r'$E_0$', r'$E_1$'], title=r'Numerical Eigenvalues for 1 Qubit system vs $\\lambda$',\n",
    "        x_title=r'$\\lambda$', y_title=r'Eigenvalues', filename='eigs-1-cl.pdf')\n",
    "\n"
   ]
  },
  {
   "attachments": {},
   "cell_type": "markdown",
   "metadata": {},
   "source": [
    "### Quantum Computing \n",
    "\n",
    "First we need to rewrite the hamiltonian in terms of Pauli matrices.\n",
    "$$\n",
    "H_0 = \\mathcal{E} I + \\Omega \\sigma_z, \\quad \n",
    "\\mathcal{E} = \\frac{E_1+ E_2}{2}, \\; \\Omega = \\frac{E_1-E_2}{2},\n",
    "$$\n",
    "$$\n",
    "H_I = c \\boldsymbol{I} +\\omega_z\\sigma_z + \\omega_x\\sigma_x,\n",
    "$$\n",
    "$$\n",
    "\\lambda H_I = \\lambda c \\boldsymbol{I} + \\lambda \\omega_z\\sigma_z + \\lambda \\omega_x \\sigma_x \n",
    "$$\n",
    "$$\n",
    "H = H_0 + \\lambda H_I = \\left( \\mathcal{E} + \\lambda c \\right) I + (\\Omega + \\lambda \\omega_z)\\sigma_z + (\\lambda \\omega_x)\\sigma_x\n",
    "$$"
   ]
  },
  {
   "cell_type": "code",
   "execution_count": 4,
   "metadata": {},
   "outputs": [
    {
     "data": {
      "text/plain": [
       "array([[509.,   0.],\n",
       "       [  0.,   1.],\n",
       "       [491.,  10.],\n",
       "       [  0.,  11.]])"
      ]
     },
     "execution_count": 4,
     "metadata": {},
     "output_type": "execute_result"
    }
   ],
   "source": [
    "q2 = Qubits_2()\n",
    "\n",
    "# set up bell state\n",
    "q2.hadamard(0)\n",
    "q2.measure(1000)"
   ]
  },
  {
   "attachments": {},
   "cell_type": "markdown",
   "metadata": {},
   "source": [
    "Set up"
   ]
  },
  {
   "cell_type": "code",
   "execution_count": 5,
   "metadata": {},
   "outputs": [],
   "source": [
    "\n",
    "def H(lmb):\n",
    "    return PauliSumOp.from_list([('X', lmb*omega_x), \n",
    "                                 ('Z', Omega+lmb*omega_z), \n",
    "                                 ('I', lmb*c+epsilon)]) # Hamiltonian using operators\n",
    "\n",
    "def ansatz():\n",
    "    # creates an ansatz that are functions of the parameters TODO: maybe can be changed to Hartree Fock initial state? \n",
    "    # from HartreeFock.construct_circuit()\n",
    "    theta = Parameter('theta')\n",
    "    phi = Parameter('phi')\n",
    "    qc = QuantumCircuit(1)\n",
    "    qc.rx(theta,0)\n",
    "    qc.ry(phi,0)\n",
    "    return qc\n",
    "\n",
    "\n",
    "def prep_vqe():\n",
    "    adam = ADAM(maxiter = 10000)\n",
    "    slsqp = SLSQP(maxiter=10000)\n",
    "    # backend = Aer.get_backend('qasm_simulator')\n",
    "    estimator = Estimator()\n",
    "\n",
    "    vqe = VQE(ansatz=ansatz(), \n",
    "              optimizer=slsqp, \n",
    "              initial_point=np.random.uniform(low=-np.pi, high=np.pi, size=2), \n",
    "              estimator=estimator)\n",
    "\n",
    "    return vqe\n",
    "# vqe is sucessful becuase we enbed 2 qubit gates which, which creates highly entangled states. \n",
    "# Allowing us to explore multiple states at the same time. thetas needed for an n_qubit state doesn't have to scale exponentially with the number of qubits, but only linearly.\n",
    "\n"
   ]
  },
  {
   "cell_type": "code",
   "execution_count": 13,
   "metadata": {},
   "outputs": [],
   "source": [
    "# Define the backend to run the quantum circuit\n",
    "n_points=100\n",
    "\n",
    "\n",
    "lmbs = np.arange(n_points) # rmb to divide when used\n",
    "vqe = prep_vqe()\n",
    "energies = np.zeros(n_points) # containers for the energies\n",
    "\n",
    "for i, lmb in enumerate(lmbs):\n",
    "    lmb = lmb / n_points\n",
    "    ham = H(lmb)\n",
    "    # print(ham)\n",
    "    result = vqe.compute_minimum_eigenvalue(ham)\n",
    "    energies[i] = result.eigenvalue.real\n",
    "    # print(f'lmb = {lmb}, energy = {result.eigenvalue.real}')\n",
    "\n",
    "\n"
   ]
  },
  {
   "cell_type": "code",
   "execution_count": 15,
   "metadata": {},
   "outputs": [],
   "source": [
    "plt.plot(lmbs/n_points, energies)\n",
    "save_fig('qk-1qb.pdf')\n",
    "# plt.show()"
   ]
  },
  {
   "attachments": {},
   "cell_type": "markdown",
   "metadata": {},
   "source": [
    "With **src.base**\n",
    "$$\n",
    "H = H_0 + \\lambda H_I = \\left( \\mathcal{E} + \\lambda c \\right) I + (\\Omega + \\lambda \\omega_z)\\sigma_z + (\\lambda \\omega_x)\\sigma_x\n",
    "$$"
   ]
  },
  {
   "cell_type": "code",
   "execution_count": 8,
   "metadata": {},
   "outputs": [
    {
     "data": {
      "text/plain": [
       "1.49866"
      ]
     },
     "execution_count": 8,
     "metadata": {},
     "output_type": "execute_result"
    }
   ],
   "source": [
    "\n",
    "def my_ansatz(params):\n",
    "    '''params: list of parameters for the ansatz, [theta, phi]'''\n",
    "    qc = Qubit()\n",
    "    qc.rx(params[0], 0)\n",
    "    qc.ry(params[1], 0)\n",
    "    return qc\n",
    "\n",
    "def my_H(lmb):\n",
    "    # computes the hamiltonian\n",
    "    return pauli_sum([('X', lmb*omega_x), \n",
    "                      ('Z', Omega+lmb*omega_z), \n",
    "                      ('I', lmb*c+epsilon)])\n",
    "\n",
    "def expectation(qc, lmb, n_shots=10000):\n",
    "\n",
    "    coeffs = {'X': lmb*omega_x, \n",
    "            'Z': Omega+lmb*omega_z, \n",
    "            'I': lmb*c+epsilon}\n",
    "    \n",
    "    qc_copy = qc.copy()\n",
    "    qc_copy.hadamard(0)\n",
    "    count_x = qc_copy.measure(n_shots)[:, 0]\n",
    "\n",
    "    qc_copy = qc.copy()\n",
    "    count_z = qc_copy.measure(n_shots)[:, 0]\n",
    "\n",
    "    expt = 0\n",
    "    count_x *= coeffs['X']\n",
    "    count_z *= coeffs['Z']\n",
    "\n",
    "    expt += count_x[0]\n",
    "    expt -= count_x[1]\n",
    "    \n",
    "    expt += count_z[0]\n",
    "    expt -= count_z[1]\n",
    "\n",
    "    return coeffs['I'] + expt / n_shots\n",
    "\n",
    "qc = Qubit()\n",
    "expectation(qc, 0.5)"
   ]
  },
  {
   "cell_type": "code",
   "execution_count": 9,
   "metadata": {},
   "outputs": [
    {
     "data": {
      "text/plain": [
       "Qubit(s) in state: \n",
       " 0.50+0.50j|0⟩ + 0.50-0.50j|1⟩ "
      ]
     },
     "execution_count": 9,
     "metadata": {},
     "output_type": "execute_result"
    }
   ],
   "source": [
    "a = my_ansatz((np.pi/2,np.pi/2))\n",
    "a"
   ]
  },
  {
   "cell_type": "code",
   "execution_count": 10,
   "metadata": {},
   "outputs": [],
   "source": [
    "from algorithms import Vqe "
   ]
  },
  {
   "cell_type": "code",
   "execution_count": 11,
   "metadata": {},
   "outputs": [],
   "source": [
    "n_points = 100\n",
    "\n",
    "init_points = np.random.uniform(low=-np.pi, high=np.pi, size=2)\n",
    "my_vqe = Vqe(my_ansatz, init_points, expectation=expectation)\n",
    "\n",
    "my_energies = np.zeros(n_points)\n",
    "lmbs = np.arange(n_points)\n",
    "for i, lmb in enumerate(lmbs):\n",
    "    lmb = lmb / n_points\n",
    "    my_ham = my_H(lmb)\n",
    "    min_params, min_energy = my_vqe.minimise_eigenvalue(my_ham, lmb)\n",
    "    # print(f\"lambda: {lmb}, energy: {min_energy}\")\n",
    "    my_energies[i] = min_energy\n",
    "\n"
   ]
  },
  {
   "cell_type": "code",
   "execution_count": 17,
   "metadata": {},
   "outputs": [],
   "source": [
    "plot_2D(lmbs/n_points, [my_energies, energies, eigs[1]], plot_count=3, label=['vqe-base', 'vqe-qk', 'numerical'],\n",
    "        x_title=r'$\\lambda$', y_title='Ground State Energy', title='Ground State Energy Solver Comparison.pdf',\n",
    "        filename='1qb-al.pdf')"
   ]
  },
  {
   "attachments": {},
   "cell_type": "markdown",
   "metadata": {},
   "source": []
  },
  {
   "attachments": {},
   "cell_type": "markdown",
   "metadata": {},
   "source": []
  },
  {
   "cell_type": "code",
   "execution_count": null,
   "metadata": {},
   "outputs": [],
   "source": []
  }
 ],
 "metadata": {
  "kernelspec": {
   "display_name": "qiskit",
   "language": "python",
   "name": "python3"
  },
  "language_info": {
   "codemirror_mode": {
    "name": "ipython",
    "version": 3
   },
   "file_extension": ".py",
   "mimetype": "text/x-python",
   "name": "python",
   "nbconvert_exporter": "python",
   "pygments_lexer": "ipython3",
   "version": "3.8.16"
  },
  "orig_nbformat": 4
 },
 "nbformat": 4,
 "nbformat_minor": 2
}
