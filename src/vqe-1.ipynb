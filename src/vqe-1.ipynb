{
 "cells": [
  {
   "cell_type": "code",
   "execution_count": 23,
   "metadata": {},
   "outputs": [],
   "source": [
    "from base import *\n",
    "from utils import *\n",
    "from plot_tools import *\n",
    "import qiskit as qk\n",
    "from qiskit import QuantumCircuit, Aer, execute\n",
    "from qiskit.primitives import Estimator\n",
    "# from qiskit.utils import QuantumInstance\n",
    "# from qiskit.algorithms import VQE\n",
    "from qiskit.algorithms.minimum_eigensolvers import VQE\n",
    "from qiskit.algorithms.optimizers import SLSQP, ADAM\n",
    "from qiskit.opflow import PauliSumOp, AerPauliExpectation\n",
    "from qiskit.circuit import Parameter\n",
    "import numpy as np\n",
    "import seaborn as sns\n",
    "\n"
   ]
  },
  {
   "attachments": {},
   "cell_type": "markdown",
   "metadata": {},
   "source": [
    "## The simple hamiltonian\n",
    "$$\n",
    "H_0 = \\mathcal{E} I + \\Omega \\sigma_z, \\quad \\mathcal{E} = \\frac{E_1\n",
    "  + E_2}{2}, \\; \\Omega = \\frac{E_1-E_2}{2},\n",
    "$$\n",
    "$$\n",
    "H_I = c \\boldsymbol{I} +\\omega_z\\sigma_z + \\omega_x\\sigma_x,\n",
    "$$\n",
    "$$\n",
    "c = (V_{11}+V_{22})/2, \n",
    "$$ \n",
    "$$\n",
    "\\omega_z = (V_{11}-V_{22})/2, \n",
    "$$\n",
    "$$\n",
    "\\omega_x = V_{12}=V_{21}\n",
    "$$"
   ]
  },
  {
   "cell_type": "code",
   "execution_count": 24,
   "metadata": {},
   "outputs": [],
   "source": [
    "# Constants\n",
    "E_1 = 0\n",
    "E_2 = 4 \n",
    "V_11 = 3\n",
    "V_22 = -3\n",
    "V_12 = 0.2\n",
    "V_21 = 0.2\n",
    "epsilon = (E_1+E_2) / 2\n",
    "Omega = (E_1-E_2) / 2\n",
    "c = (V_11 + V_22) / 2\n",
    "omega_z = (V_11 - V_22) / 2\n",
    "omega_x = V_12\n",
    "\n",
    "# Variables\n",
    "# lmb = 1 # Interaction strength\n"
   ]
  },
  {
   "attachments": {},
   "cell_type": "markdown",
   "metadata": {},
   "source": [
    "### Classical numerical solver for the eigenvalues"
   ]
  },
  {
   "cell_type": "code",
   "execution_count": 25,
   "metadata": {},
   "outputs": [],
   "source": [
    "H_0 = np.array([[E_1, 0],\n",
    "               [0, E_2]])\n",
    "H_1 = np.array([[V_11, V_12],\n",
    "               [V_21, V_22]])\n",
    "\n",
    "\n",
    "lmbs = np.arange(0, 1, 0.01)\n",
    "eigs = np.zeros((2, len(lmbs)))\n",
    "\n",
    "for i, lmb in enumerate(lmbs):\n",
    "    result = np.linalg.eig(H_0 + lmb * H_1)[0]\n",
    "    eigs[:,i] = max(result), min(result)\n",
    "\n",
    "# print(eigs)\n",
    "# print(lmbs.shape)\n",
    "plot_2D(lmbs, eigs, plot_count=2, label=[r'$E_0$', r'$E_1$'], title=r'Numerical Eigenvalues for 1 Qubit system vs $\\lambda$',\n",
    "        x_title=r'$\\lambda$', y_title=r'Eigenvalues', filename='eigs-1-cl.pdf')\n",
    "\n"
   ]
  },
  {
   "attachments": {},
   "cell_type": "markdown",
   "metadata": {},
   "source": [
    "### Quantum Computing \n",
    "\n",
    "First we need to rewrite the hamiltonian in terms of Pauli matrices.\n",
    "$$\n",
    "H_0 = \\mathcal{E} I + \\Omega \\sigma_z, \\quad \n",
    "\\mathcal{E} = \\frac{E_1+ E_2}{2}, \\; \\Omega = \\frac{E_1-E_2}{2},\n",
    "$$\n",
    "$$\n",
    "H_I = c \\boldsymbol{I} +\\omega_z\\sigma_z + \\omega_x\\sigma_x,\n",
    "$$\n",
    "$$\n",
    "\\lambda H_I = \\lambda c \\boldsymbol{I} + \\lambda \\omega_z\\sigma_z + \\lambda \\omega_x \\sigma_x \n",
    "$$\n",
    "$$\n",
    "H = H_0 + \\lambda H_I = \\left( \\mathcal{E} + \\lambda c \\right) I + (\\Omega + \\lambda \\omega_z)\\sigma_z + (\\lambda \\omega_x)\\sigma_x\n",
    "$$"
   ]
  },
  {
   "cell_type": "code",
   "execution_count": 26,
   "metadata": {},
   "outputs": [
    {
     "data": {
      "text/plain": [
       "array([[524.,   0.],\n",
       "       [  0.,   1.],\n",
       "       [476.,  10.],\n",
       "       [  0.,  11.]])"
      ]
     },
     "execution_count": 26,
     "metadata": {},
     "output_type": "execute_result"
    }
   ],
   "source": [
    "q2 = Qubits_2()\n",
    "\n",
    "# set up bell state\n",
    "q2.hadamard(0)\n",
    "q2.measure(1000)"
   ]
  },
  {
   "attachments": {},
   "cell_type": "markdown",
   "metadata": {},
   "source": [
    "Set up"
   ]
  },
  {
   "cell_type": "code",
   "execution_count": 27,
   "metadata": {},
   "outputs": [],
   "source": [
    "\n",
    "def H(lmb):\n",
    "    return PauliSumOp.from_list([('X', lmb*omega_x), \n",
    "                                 ('Z', Omega+lmb*omega_z), \n",
    "                                 ('I', lmb*c+epsilon)]) # Hamiltonian using operators\n",
    "\n",
    "def ansatz():\n",
    "    # creates an ansatz that are functions of the parameters TODO: maybe can be changed to Hartree Fock initial state? \n",
    "    # from HartreeFock.construct_circuit()\n",
    "    theta = Parameter('theta')\n",
    "    phi = Parameter('phi')\n",
    "    qc = QuantumCircuit(1)\n",
    "    qc.rx(theta,0)\n",
    "    qc.ry(phi,0)\n",
    "    return qc\n",
    "\n",
    "\n",
    "def prep_vqe():\n",
    "    adam = ADAM(maxiter = 10000)\n",
    "    slsqp = SLSQP(maxiter=10000)\n",
    "    # backend = Aer.get_backend('qasm_simulator')\n",
    "    estimator = Estimator()\n",
    "\n",
    "    vqe = VQE(ansatz=ansatz(), \n",
    "              optimizer=slsqp, \n",
    "              initial_point=np.random.uniform(low=-np.pi, high=np.pi, size=2), \n",
    "              estimator=estimator)\n",
    "\n",
    "    return vqe\n",
    "# vqe is sucessful becuase we enbed 2 qubit gates which, which creates highly entangled states. \n",
    "# Allowing us to explore multiple states at the same time. thetas needed for an n_qubit state doesn't have to scale exponentially with the number of qubits, but only linearly.\n",
    "\n"
   ]
  },
  {
   "cell_type": "code",
   "execution_count": 28,
   "metadata": {},
   "outputs": [
    {
     "name": "stdout",
     "output_type": "stream",
     "text": [
      "lmb = 0.0, energy = 1.4242477619497151e-07\n",
      "lmb = 0.01, energy = 0.02999908360925785\n",
      "lmb = 0.02, energy = 0.05999590696585466\n",
      "lmb = 0.03, energy = 0.08999057621209294\n",
      "lmb = 0.04, energy = 0.11998302796620841\n",
      "lmb = 0.05, energy = 0.14997321034552447\n",
      "lmb = 0.06, energy = 0.17996044002322953\n",
      "lmb = 0.07, energy = 0.20994525223929927\n",
      "lmb = 0.08, energy = 0.23992761466868062\n",
      "lmb = 0.09, energy = 0.26990659722057475\n",
      "lmb = 0.1, energy = 0.2998825357552872\n",
      "lmb = 0.11, energy = 0.32985527207402443\n",
      "lmb = 0.12, energy = 0.3598246861428671\n",
      "lmb = 0.13, energy = 0.3897900797978373\n",
      "lmb = 0.14, energy = 0.4197519711675779\n",
      "lmb = 0.15, energy = 0.4497098918102267\n",
      "lmb = 0.16, energy = 0.47966343275876877\n",
      "lmb = 0.17, energy = 0.509612157149679\n",
      "lmb = 0.18, energy = 0.5395562318730571\n",
      "lmb = 0.19, energy = 0.5694951939962383\n",
      "lmb = 0.2, energy = 0.5994286879991693\n",
      "lmb = 0.21, energy = 0.6293563555762027\n",
      "lmb = 0.22, energy = 0.6592778065558684\n",
      "lmb = 0.23, energy = 0.6891926185355217\n",
      "lmb = 0.24, energy = 0.7191003237247935\n",
      "lmb = 0.25, energy = 0.7490003997795629\n",
      "lmb = 0.26, energy = 0.7788923061567326\n",
      "lmb = 0.27, energy = 0.8087754200304134\n",
      "lmb = 0.28, energy = 0.8386490626957026\n",
      "lmb = 0.29, energy = 0.868512483801221\n",
      "lmb = 0.3, energy = 0.8983648516976193\n",
      "lmb = 0.31, energy = 0.9282052620507311\n",
      "lmb = 0.32, energy = 0.9580328641197267\n",
      "lmb = 0.33, energy = 0.9878459941685198\n",
      "lmb = 0.34, energy = 1.0176437199277633\n",
      "lmb = 0.35, energy = 1.0474245462371017\n",
      "lmb = 0.36, energy = 1.0771869115678752\n",
      "lmb = 0.37, energy = 1.1069290985233546\n",
      "lmb = 0.38, energy = 1.1366484557280865\n",
      "lmb = 0.39, energy = 1.1663429983221012\n",
      "lmb = 0.4, energy = 1.1960099562260362\n",
      "lmb = 0.41, energy = 1.2256460764021386\n",
      "lmb = 0.42, energy = 1.2552477072264943\n",
      "lmb = 0.43, energy = 1.2848106236849053\n",
      "lmb = 0.44, energy = 1.3143296286023718\n",
      "lmb = 0.45, energy = 1.3437989422234495\n",
      "lmb = 0.46, energy = 1.373211517134992\n",
      "lmb = 0.47, energy = 1.4025588259315165\n",
      "lmb = 0.48, energy = 1.4318310325063957\n",
      "lmb = 0.49, energy = 1.4610158271484082\n",
      "lmb = 0.5, energy = 1.4900980510654471\n",
      "lmb = 0.51, energy = 1.5190596299454526\n",
      "lmb = 0.52, energy = 1.547876124570282\n",
      "lmb = 0.53, energy = 1.5765191889365988\n",
      "lmb = 0.54, energy = 1.604950636368721\n",
      "lmb = 0.55, energy = 1.6331212819459286\n",
      "lmb = 0.56, energy = 1.6609660784451774\n",
      "lmb = 0.57, energy = 1.688397711789519\n",
      "lmb = 0.58, energy = 1.7152970250310864\n",
      "lmb = 0.59, energy = 1.7414968091773604\n",
      "lmb = 0.6, energy = 1.766761927542483\n",
      "lmb = 0.61, energy = 1.7907538772472331\n",
      "lmb = 0.62, energy = 1.8129816286725806\n",
      "lmb = 0.63, energy = 1.8327397237982321\n",
      "lmb = 0.64, energy = 1.8490563018960915\n",
      "lmb = 0.65, energy = 1.8607161172292734\n",
      "lmb = 0.66, energy = 1.8664934458537963\n",
      "lmb = 0.67, energy = 1.865629439194322\n",
      "lmb = 0.68, energy = 1.8582397272972357\n",
      "lmb = 0.69, energy = 1.8452618179940348\n",
      "lmb = 0.7, energy = 1.8279536316398775\n",
      "lmb = 0.71, energy = 1.8074801819310113\n",
      "lmb = 0.72, energy = 1.7847421020389094\n",
      "lmb = 0.73, energy = 1.7603836768542496\n",
      "lmb = 0.74, energy = 1.7348513302509123\n",
      "lmb = 0.75, energy = 1.7084532346386205\n",
      "lmb = 0.76, energy = 1.6814035639338056\n",
      "lmb = 0.77, energy = 1.6538560577518613\n",
      "lmb = 0.78, energy = 1.6259203094010373\n",
      "lmb = 0.79, energy = 1.597677195995144\n",
      "lmb = 0.8, energy = 1.5691871797696375\n",
      "lmb = 0.81, energy = 1.5404961980751022\n",
      "lmb = 0.82, energy = 1.511639679918837\n",
      "lmb = 0.83, energy = 1.4826453301153413\n",
      "lmb = 0.84, energy = 1.4535350902114026\n",
      "lmb = 0.85, energy = 1.4243270589841526\n",
      "lmb = 0.86, energy = 1.3950343005734132\n",
      "lmb = 0.87, energy = 1.365669144796337\n",
      "lmb = 0.88, energy = 1.3362412013642442\n",
      "lmb = 0.89, energy = 1.3067584649814188\n",
      "lmb = 0.9, energy = 1.277227638464302\n",
      "lmb = 0.91, energy = 1.247654381869188\n",
      "lmb = 0.92, energy = 1.2180435065572286\n",
      "lmb = 0.93, energy = 1.1883991276845765\n",
      "lmb = 0.94, energy = 1.1587247851471525\n",
      "lmb = 0.95, energy = 1.1290235401515938\n",
      "lmb = 0.96, energy = 1.099298409303034\n",
      "lmb = 0.97, energy = 1.069550871942226\n",
      "lmb = 0.98, energy = 1.0397834920054154\n",
      "lmb = 0.99, energy = 1.0099980532097068\n"
     ]
    }
   ],
   "source": [
    "# Define the backend to run the quantum circuit\n",
    "n_points=100\n",
    "\n",
    "\n",
    "lmbs = np.arange(n_points) # rmb to divide when used\n",
    "vqe = prep_vqe()\n",
    "energies = np.zeros(n_points) # containers for the energies\n",
    "\n",
    "for i, lmb in enumerate(lmbs):\n",
    "    lmb = lmb / n_points\n",
    "    ham = H(lmb)\n",
    "    # print(ham)\n",
    "    result = vqe.compute_minimum_eigenvalue(ham)\n",
    "    energies[i] = result.eigenvalue.real\n",
    "    # print(f'lmb = {lmb}, energy = {result.eigenvalue.real}')\n",
    "\n",
    "\n"
   ]
  },
  {
   "cell_type": "code",
   "execution_count": 29,
   "metadata": {},
   "outputs": [
    {
     "data": {
      "image/png": "[encoded data removed]",
      "text/plain": [
       "<Figure size 640x480 with 1 Axes>"
      ]
     },
     "metadata": {},
     "output_type": "display_data"
    }
   ],
   "source": [
    "plt.plot(lmbs/n_points, energies)\n",
    "# save_fig('qk-1qb.pdf')\n",
    "plt.show()"
   ]
  },
  {
   "attachments": {},
   "cell_type": "markdown",
   "metadata": {},
   "source": [
    "With **src.base**\n",
    "$$\n",
    "H = H_0 + \\lambda H_I = \\left( \\mathcal{E} + \\lambda c \\right) I + (\\Omega + \\lambda \\omega_z)\\sigma_z + (\\lambda \\omega_x)\\sigma_x\n",
    "$$"
   ]
  },
  {
   "cell_type": "code",
   "execution_count": 30,
   "metadata": {},
   "outputs": [
    {
     "data": {
      "text/plain": [
       "1.50026"
      ]
     },
     "execution_count": 30,
     "metadata": {},
     "output_type": "execute_result"
    }
   ],
   "source": [
    "\n",
    "def my_ansatz(params):\n",
    "    '''params: list of parameters for the ansatz, [theta, phi]'''\n",
    "    qc = Qubit()\n",
    "    qc.rx(params[0], 0)\n",
    "    qc.ry(params[1], 0)\n",
    "    return qc\n",
    "\n",
    "def my_H(lmb):\n",
    "    # computes the hamiltonian\n",
    "    return pauli_sum([('X', lmb*omega_x), \n",
    "                      ('Z', Omega+lmb*omega_z), \n",
    "                      ('I', lmb*c+epsilon)])\n",
    "\n",
    "def expectation(qc, lmb, n_shots=10000):\n",
    "\n",
    "    coeffs = {'X': lmb*omega_x, \n",
    "            'Z': Omega+lmb*omega_z, \n",
    "            'I': lmb*c+epsilon}\n",
    "    \n",
    "    qc_copy = qc.copy()\n",
    "    qc_copy.hadamard(0)\n",
    "    count_x = qc_copy.measure(n_shots)[:, 0]\n",
    "\n",
    "    qc_copy = qc.copy()\n",
    "    count_z = qc_copy.measure(n_shots)[:, 0]\n",
    "\n",
    "    expt = 0\n",
    "    count_x *= coeffs['X']\n",
    "    count_z *= coeffs['Z']\n",
    "\n",
    "    expt += count_x[0]\n",
    "    expt -= count_x[1]\n",
    "    \n",
    "    expt += count_z[0]\n",
    "    expt -= count_z[1]\n",
    "\n",
    "    return coeffs['I'] + expt / n_shots\n",
    "\n",
    "qc = Qubit()\n",
    "expectation(qc, 0.5)"
   ]
  },
  {
   "cell_type": "code",
   "execution_count": 31,
   "metadata": {},
   "outputs": [
    {
     "data": {
      "text/plain": [
       "Qubit(s) in state: \n",
       " 0.50+0.50j|0⟩ + 0.50-0.50j|1⟩ "
      ]
     },
     "execution_count": 31,
     "metadata": {},
     "output_type": "execute_result"
    }
   ],
   "source": [
    "a = my_ansatz((np.pi/2,np.pi/2))\n",
    "a"
   ]
  },
  {
   "cell_type": "code",
   "execution_count": 32,
   "metadata": {},
   "outputs": [],
   "source": [
    "from algorithms import Vqe "
   ]
  },
  {
   "cell_type": "code",
   "execution_count": 39,
   "metadata": {},
   "outputs": [],
   "source": [
    "n_points = 100\n",
    "\n",
    "init_points = np.random.uniform(low=-np.pi, high=np.pi, size=2)\n",
    "my_vqe = Vqe(my_ansatz, init_points, expectation=expectation)\n",
    "\n",
    "my_energies = np.zeros(n_points)\n",
    "lmbs = np.arange(n_points)\n",
    "for i, lmb in enumerate(lmbs):\n",
    "    lmb = lmb / n_points\n",
    "    my_ham = my_H(lmb)\n",
    "    min_params, min_energy = my_vqe.minimise_eigenvalue(my_ham, lmb)\n",
    "    # print(f\"lambda: {lmb}, energy: {min_energy}\")\n",
    "    my_energies[i] = min_energy\n",
    "\n"
   ]
  },
  {
   "cell_type": "code",
   "execution_count": 36,
   "metadata": {},
   "outputs": [
    {
     "data": {
      "image/png": "[encoded data removed]",
      "text/plain": [
       "<Figure size 640x480 with 1 Axes>"
      ]
     },
     "metadata": {},
     "output_type": "display_data"
    }
   ],
   "source": [
    "plot_2D(lmbs/n_points, [my_energies, energies, eigs[1]], plot_count=3, label=['vqe-base', 'vqe-qk', 'numerical'],\n",
    "        x_title=r'$\\lambda$', y_title='Ground State Energy', title='Ground State Energy Solver Comparison.pdf',)\n",
    "        # filename='1qb-al.pdf')"
   ]
  },
  {
   "attachments": {},
   "cell_type": "markdown",
   "metadata": {},
   "source": []
  },
  {
   "attachments": {},
   "cell_type": "markdown",
   "metadata": {},
   "source": []
  },
  {
   "cell_type": "code",
   "execution_count": null,
   "metadata": {},
   "outputs": [],
   "source": []
  }
 ],
 "metadata": {
  "kernelspec": {
   "display_name": "qiskit",
   "language": "python",
   "name": "python3"
  },
  "language_info": {
   "codemirror_mode": {
    "name": "ipython",
    "version": 3
   },
   "file_extension": ".py",
   "mimetype": "text/x-python",
   "name": "python",
   "nbconvert_exporter": "python",
   "pygments_lexer": "ipython3",
   "version": "3.8.16"
  },
  "orig_nbformat": 4
 },
 "nbformat": 4,
 "nbformat_minor": 2
}
