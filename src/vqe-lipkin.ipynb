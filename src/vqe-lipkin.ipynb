{
 "cells": [
  {
   "cell_type": "code",
   "execution_count": 2,
   "metadata": {},
   "outputs": [],
   "source": [
    "from base import *\n",
    "from utils import pauli_sum, entropy\n",
    "from plot_tools import *\n",
    "import plot_utils\n",
    "import qiskit as qk\n",
    "from qiskit import QuantumCircuit, Aer, execute\n",
    "from qiskit.primitives import Estimator\n",
    "# from qiskit.utils import QuantumInstance\n",
    "# from qiskit.algorithms import VQE\n",
    "from qiskit.algorithms.minimum_eigensolvers import VQE\n",
    "from qiskit.algorithms.optimizers import SLSQP, ADAM, COBYLA\n",
    "from qiskit.opflow import X, Z, I, Y, AerPauliExpectation, PauliSumOp\n",
    "from qiskit.circuit import Parameter \n",
    "from qiskit.circuit.library import TwoLocal\n",
    "import numpy as np"
   ]
  },
  {
   "attachments": {},
   "cell_type": "markdown",
   "metadata": {},
   "source": [
    "### The Lipkin Model: $J=1$\n",
    "$$\n",
    "H_0 = \\varepsilon J_z,\n",
    "$$\n",
    "$$\n",
    "H_1 = \\frac{1}{2} V \\left( J_+^2 + J_-^2 \\right).\n",
    "$$\n",
    "$$\n",
    "H_2 = \\frac{1}{2} W \\left( -N + J_+ J_- + J_- J_+ \\right).\n",
    "$$\n",
    "$$\n",
    "\\begin{equation}\n",
    "H_{J = 1} =\n",
    "\\begin{pmatrix}-\\epsilon & 0 & -V\\\\\n",
    " 0&0&0\\\\\n",
    " -V&0&\\epsilon\n",
    "\\end{pmatrix}\n",
    "% \\label{_auto6} \\tag{6}\n",
    "\\end{equation}\n",
    "$$"
   ]
  },
  {
   "cell_type": "code",
   "execution_count": 8,
   "metadata": {},
   "outputs": [
    {
     "data": {
      "text/plain": [
       "array([[-1. ,  0. , -0.5],\n",
       "       [ 0. ,  0. ,  0. ],\n",
       "       [-0.5,  0. ,  1. ]])"
      ]
     },
     "execution_count": 8,
     "metadata": {},
     "output_type": "execute_result"
    }
   ],
   "source": [
    "eps = 1\n",
    "def H(v):    \n",
    "    return np.array([[-eps, 0, -v], \n",
    "                     [0, 0, 0], \n",
    "                     [-v, 0, eps]])\n",
    "\n",
    "H(0.5)"
   ]
  },
  {
   "attachments": {},
   "cell_type": "markdown",
   "metadata": {},
   "source": [
    "### Classical numerical solver for the eigenvalues and the Von Neumann entropy \n",
    "\n",
    "$$\n",
    "S(A,B)=-\\mathrm{Tr}\\left(\\rho_{A,B}\\log_2 (\\rho_{A,B})\\right).\n",
    "$$"
   ]
  },
  {
   "cell_type": "code",
   "execution_count": 67,
   "metadata": {},
   "outputs": [],
   "source": [
    "vs = np.arange(0, 1, 0.01)\n",
    "eigs = np.zeros((3, len(vs)))\n",
    "\n",
    "\n",
    "for i, v in enumerate(vs):\n",
    "    ham = H(v)\n",
    "    eigvals, eigvecs = np.linalg.eig(H(v))\n",
    "    eigs[:,i] = sorted(eigvals)\n",
    "\n",
    "\n"
   ]
  },
  {
   "cell_type": "code",
   "execution_count": 68,
   "metadata": {},
   "outputs": [],
   "source": [
    "plot_2D(vs, eigs, plot_count=3, title=r\"Numerical Eigenvalues for $J=1$\", x_title=r'$v/\\epsilon$', \n",
    "        label = [r'$E_1$', r'$E_2$', r'$E_3$'], y_title='Energies', filename='eigs-lipkin-2.pdf')"
   ]
  },
  {
   "attachments": {},
   "cell_type": "markdown",
   "metadata": {},
   "source": [
    "### VQE\n",
    "\n"
   ]
  },
  {
   "cell_type": "code",
   "execution_count": null,
   "metadata": {},
   "outputs": [],
   "source": []
  },
  {
   "cell_type": "code",
   "execution_count": 69,
   "metadata": {},
   "outputs": [
    {
     "data": {
      "text/plain": [
       "PauliSumOp(SparsePauliOp(['ZI', 'IZ', 'YY', 'XX'],\n",
       "              coeffs=[ 0.5+0.j,  0.5+0.j, -0. +0.j,  0. +0.j]), coeff=1.0)"
      ]
     },
     "execution_count": 69,
     "metadata": {},
     "output_type": "execute_result"
    }
   ],
   "source": [
    "def H(v): \n",
    "    return PauliSumOp.from_list([('ZI', (0.5 * eps)),\n",
    "                                 ('IZ', (0.5 * eps)), \n",
    "                                 ('YY', (-0.5 * v)),\n",
    "                                 ('XX', (0.5 * v))])\n",
    "\n",
    "H(0)"
   ]
  },
  {
   "attachments": {},
   "cell_type": "markdown",
   "metadata": {},
   "source": [
    "Set up"
   ]
  },
  {
   "cell_type": "code",
   "execution_count": 70,
   "metadata": {},
   "outputs": [],
   "source": [
    "def ansatz():\n",
    "    '''creates an ansatz for vqe\n",
    "    inputs:\n",
    "        n: int, number of qubits\n",
    "    return:\n",
    "        qc: QuantumCircuit object, parametrized quantum circuit with given number of qubits, with parameters \n",
    "        thetas and phis\n",
    "        '''\n",
    "    n=2\n",
    "    qc = QuantumCircuit(n)\n",
    "    theta0 = Parameter('theta0')\n",
    "    phi0 = Parameter('phi0')\n",
    "    theta1 = Parameter('theta1')\n",
    "    phi1 = Parameter('phi1')\n",
    "\n",
    "    qc.rx(theta0,0)\n",
    "    qc.ry(phi0,0)\n",
    "    qc.rx(theta1,1)\n",
    "    qc.ry(phi1,1)\n",
    "    qc.cnot(0,1)\n",
    "    \n",
    "    return qc\n",
    "\n",
    "def prep_vqe(n):\n",
    "    '''input:\n",
    "        n: int, number of qubits'''\n",
    "    adam = ADAM(maxiter = 10000)\n",
    "    slsqp = SLSQP(maxiter = 10000)\n",
    "    # backend = Aer.get_backend('qasm_simulator')\n",
    "    estimator = Estimator()\n",
    "    vqe = VQE(ansatz=ansatz(), \n",
    "              optimizer=slsqp, \n",
    "              initial_point=np.random.uniform(low=-np.pi, high=np.pi, size=2*n), \n",
    "              estimator=estimator)\n",
    "\n",
    "    return vqe\n",
    "# vqe is sucessful becuase we enbed 2 qubit gates which, which creates highly entangled states. \n",
    "# Allowing us to explore multiple states at the same time. thetas needed for an n_qubit state doesn't have to scale exponentially with the number of qubits, but only linearly."
   ]
  },
  {
   "cell_type": "code",
   "execution_count": 79,
   "metadata": {},
   "outputs": [],
   "source": [
    "n_points=100\n",
    "n_qubits=2\n",
    "\n",
    "vs = np.arange(n_points) # rmb to divide when used\n",
    "vqe = prep_vqe(n_qubits)\n",
    "energies = np.zeros(n_points) # containers for the energies\n",
    "\n",
    "for i, v in enumerate(vs):\n",
    "    v = v / n_points\n",
    "    ham = H(v)\n",
    "    # print(ham)\n",
    "    result = vqe.compute_minimum_eigenvalue(ham)\n",
    "    energies[i] = result.eigenvalue.real\n",
    "    # print(f'v = {v}, energy = {result.eigenvalue.real}')\n",
    "\n",
    "\n"
   ]
  },
  {
   "cell_type": "code",
   "execution_count": 80,
   "metadata": {},
   "outputs": [
    {
     "data": {
      "image/png": "[encoded data removed]",
      "text/plain": [
       "<Figure size 640x480 with 1 Axes>"
      ]
     },
     "metadata": {},
     "output_type": "display_data"
    }
   ],
   "source": [
    "\n",
    "plot_2D(vs/n_points, [energies, eigs[0]], plot_count=2, title=\"Ground state energies\", \n",
    "        x_title=r'$v/\\epsilon$', y_title='Energy', label=['vqe-qk', 'eigensolver'],)\n",
    "#         filename='lipkin-2.pdf'), \n"
   ]
  },
  {
   "attachments": {},
   "cell_type": "markdown",
   "metadata": {},
   "source": [
    "With **src.base**\n",
    "$$\n",
    "\\begin{aligned}\n",
    "H &= H_0 + H_1 \\\\\n",
    "&= \\frac{1}{2} (Z_1 + Z_2) + \\frac{1}{2} V (X_1 \\otimes X_2 - Y_1 \\otimes Y_2)\n",
    "\\end{aligned}"
   ]
  },
  {
   "cell_type": "code",
   "execution_count": 73,
   "metadata": {},
   "outputs": [],
   "source": [
    "\n",
    "def my_ansatz(params):\n",
    "    '''params: list of parameters for the ansatz, [thetas, phis]'''\n",
    "    qc = Qubits_2()\n",
    "    qc.rx(params[0], 0)\n",
    "    qc.ry(params[1], 0)\n",
    "    qc.rx(params[2], 1)\n",
    "    qc.ry(params[3], 1)\n",
    "    qc.cnot(0, 1)\n",
    "    return qc\n",
    "\n",
    "def my_H(v):\n",
    "    return pauli_sum([('ZI', (0.5 * eps)),\n",
    "                      ('IZ', (0.5 * eps)), \n",
    "                      ('YY', (-0.5 * v)),\n",
    "                      ('XX', (0.5 * v))])\n",
    "\n",
    "\n",
    "def expectation(qc, v, n_shots=10000):\n",
    "    '''the expectation value of energy for the hamiltonian'''\n",
    "    coeffs = {'IZ':0.5 * eps, 'ZI': 0.5 * eps, 'XX':0.5 * v, 'YY':-0.5 * v}\n",
    "\n",
    "    # IZ\n",
    "    qc_copy = qc.copy()\n",
    "    qc_copy.swap() \n",
    "    count_iz = qc_copy.measure(n_shots=n_shots)[:,0] # only the couonts, don't keep the states\n",
    "\n",
    "    # ZI\n",
    "    qc_copy = qc.copy() # make a new copy everytime\n",
    "    count_zi = qc_copy.measure(n_shots=n_shots)[:,0]\n",
    "\n",
    "    # XX\n",
    "    qc_copy = qc.copy()\n",
    "    qc_copy.hadamard(0)\n",
    "    qc_copy.hadamard(1)\n",
    "    qc_copy.cnot(1,0)\n",
    "    count_xx = qc_copy.measure(n_shots=n_shots)[:,0]\n",
    "\n",
    "    # YY\n",
    "    qc_copy = qc.copy()\n",
    "    qc_copy.sdag(0)\n",
    "    qc_copy.hadamard(0)\n",
    "    qc_copy.sdag(1)\n",
    "    qc_copy.hadamard(1)\n",
    "    qc_copy.cnot(1,0)\n",
    "    count_yy = qc_copy.measure(n_shots=n_shots)[:,0]\n",
    "\n",
    "    expectation = 0\n",
    "    # ZI = (#00 + #01 - #10 - #11)/ number of shots\n",
    "    # print(count_iz, count_zi, count_zz, count_xx)\n",
    "    counts = [coeffs['IZ'] * count_iz, coeffs['ZI'] * count_zi, \n",
    "              coeffs['YY'] * count_yy, coeffs['XX'] * count_xx]\n",
    "    \n",
    "    # print(counts)\n",
    "    for count in counts:\n",
    "        # print(count)\n",
    "        for i, state_count in enumerate(count):\n",
    "            if i < 2:\n",
    "                expectation += state_count\n",
    "            else:\n",
    "                expectation -= state_count\n",
    "    return expectation / n_shots\n",
    "\n",
    "\n",
    "\n",
    "# qc = Qubits_2()\n",
    "# v = np.random.uniform(-np.pi, np.pi)\n",
    "# a = qc.state.conj() @ my_H(v) @ qc.state\n",
    "# a, expectation(qc, v)\n"
   ]
  },
  {
   "cell_type": "code",
   "execution_count": 74,
   "metadata": {},
   "outputs": [
    {
     "data": {
      "text/plain": [
       "Qubit(s) in state: \n",
       " 1.00+0.00j|00⟩ + 0.05-0.05j|01⟩ + 0.00-0.00j|10⟩ + 0.05-0.05j|11⟩ "
      ]
     },
     "execution_count": 74,
     "metadata": {},
     "output_type": "execute_result"
    }
   ],
   "source": [
    "a = my_ansatz(np.ones(4)* np.random.uniform(low=-np.pi/2, high=np.pi/2))\n",
    "a"
   ]
  },
  {
   "cell_type": "code",
   "execution_count": 75,
   "metadata": {},
   "outputs": [],
   "source": [
    "from algorithms import Vqe "
   ]
  },
  {
   "cell_type": "code",
   "execution_count": 76,
   "metadata": {},
   "outputs": [],
   "source": [
    "n_points = 100\n",
    "\n",
    "init_points = np.random.uniform(low=-np.pi, high=np.pi, size=4)\n",
    "my_vqe = Vqe(my_ansatz, init_points, expectation=expectation)\n",
    "\n",
    "my_energies = np.zeros(n_points)\n",
    "vs = np.arange(n_points)\n",
    "for i, v in enumerate(vs):\n",
    "    v = v / n_points\n",
    "    my_ham = my_H(v)\n",
    "    # print(my_ham)\n",
    "    min_params, min_energy = my_vqe.minimise_eigenvalue(my_ham, v, 10000)\n",
    "    # print(f\"v: {v}, energy: {min_energy}\")\n",
    "    my_energies[i] = min_energy\n",
    "\n"
   ]
  },
  {
   "cell_type": "code",
   "execution_count": 77,
   "metadata": {},
   "outputs": [
    {
     "data": {
      "image/png": "[encoded data removed]",
      "text/plain": [
       "<Figure size 640x480 with 1 Axes>"
      ]
     },
     "metadata": {},
     "output_type": "display_data"
    }
   ],
   "source": [
    "plt.plot(vs/n_points, my_energies)\n",
    "plt.show()"
   ]
  },
  {
   "cell_type": "code",
   "execution_count": 81,
   "metadata": {},
   "outputs": [
    {
     "data": {
      "text/plain": [
       "(None,)"
      ]
     },
     "execution_count": 81,
     "metadata": {},
     "output_type": "execute_result"
    }
   ],
   "source": [
    "plot_2D(vs/n_points, [energies, eigs[0], my_energies], plot_count=3, title=\"Ground state energies for J=1\", x_title=r'v/$\\epsilon$', y_title='Energy', label=['vqe-qk', 'eigensolver', 'vqe-base']\n",
    "        ,filename='lipkin-2.pdf'), \n"
   ]
  },
  {
   "attachments": {},
   "cell_type": "markdown",
   "metadata": {},
   "source": [
    "## J=2"
   ]
  },
  {
   "cell_type": "code",
   "execution_count": 9,
   "metadata": {},
   "outputs": [],
   "source": [
    "# constants\n",
    "z_coeff = 0.5 * eps\n",
    "\n"
   ]
  },
  {
   "cell_type": "code",
   "execution_count": 11,
   "metadata": {},
   "outputs": [],
   "source": [
    "\n",
    "def H(V):\n",
    "    return np.array([[-2*eps, 0, np.sqrt(6)*V, 0, 0],\n",
    "                  [0, -eps, 0, 3*V, 0],\n",
    "                  [np.sqrt(6)*V, 0, 0, 0, np.sqrt(6)*V],\n",
    "                  [0, 3*V, 0, eps, 0],\n",
    "                  [0, 0, np.sqrt(6)*V, 0, 2*eps]])\n",
    "\n",
    "# H(0)\n",
    "\n",
    "def my_H(v):\n",
    "    \n",
    "    x_coeff = -v/2\n",
    "    y_coeff = v/2\n",
    "    return pauli_sum([('ZIII', z_coeff), ('IZII', z_coeff), ('IIZI', z_coeff), ('IIIZ', z_coeff), # all 1 qubit combinations\n",
    "                      ('XXII', x_coeff), ('XIXI', x_coeff), ('XIIX', x_coeff), ('IXXI', x_coeff), ('IXIX', x_coeff), ('IIXX', x_coeff), # all 2 qubit combinations\n",
    "                      ('YYII', y_coeff), ('YIYI', y_coeff), ('YIIY', y_coeff), ('IYYI', y_coeff), ('IYIY', y_coeff), ('IIYY', y_coeff)])\n"
   ]
  },
  {
   "cell_type": "code",
   "execution_count": 12,
   "metadata": {},
   "outputs": [
    {
     "name": "stderr",
     "output_type": "stream",
     "text": [
      "/var/folders/jg/t3sh6cf540j_h6jc8c4mssl40000gn/T/ipykernel_59076/738672038.py:9: ComplexWarning: Casting complex values to real discards the imaginary part\n",
      "  eigs[:,i] = sorted(eigvals)\n"
     ]
    }
   ],
   "source": [
    "vs = np.arange(0, 2, 0.02)\n",
    "eigs = np.zeros((16, len(vs)))\n",
    "mat_eigs = np.zeros((5, len(vs)))\n",
    "\n",
    "for i, v in enumerate(vs):\n",
    "    ham = my_H(v)\n",
    "    eigvals, eigvecs = np.linalg.eig(my_H(v))\n",
    "    eigvals_5, eigvecs_5 = np.linalg.eig(H(v))\n",
    "    eigs[:,i] = sorted(eigvals)\n",
    "    mat_eigs[:, i] = sorted(eigvals_5)\n",
    "\n",
    "    "
   ]
  },
  {
   "cell_type": "code",
   "execution_count": 21,
   "metadata": {},
   "outputs": [
    {
     "data": {
      "image/png": "[encoded data removed]",
      "text/plain": [
       "<Figure size 640x480 with 1 Axes>"
      ]
     },
     "metadata": {},
     "output_type": "display_data"
    }
   ],
   "source": [
    "plot_2D(vs, eigs, plot_count=16, title=r\"Numerical Eigenvalues for $J=2$\", x_title=r'$v$', \n",
    "        label = [rf'E_{i}' for i in range(16)], \n",
    "        y_title='Energies',)\n",
    "        #  filename='lipkin-eigs-4.pdf')\n",
    "\n",
    "plot_2D(vs, mat_eigs, plot_count=5, filename=\"Eigen-5.pdf\")"
   ]
  },
  {
   "attachments": {},
   "cell_type": "markdown",
   "metadata": {},
   "source": [
    "As we can see, every eigenvalue has a degenerate value. However $E_3$ and $E_{14}$ are energy eigenvalues that we do not get from the 5x5 matrix. "
   ]
  },
  {
   "cell_type": "code",
   "execution_count": 56,
   "metadata": {},
   "outputs": [],
   "source": [
    "def ansatz(num_qubits, reps):\n",
    "    # Create quantum circuit\n",
    "    qc = QuantumCircuit(num_qubits)\n",
    "\n",
    "    # Define parameters\n",
    "    params = [Parameter(f'theta_{i}') for i in range(2 * num_qubits * (reps+1))]\n",
    "\n",
    "    # Create the layers\n",
    "    for i in range(reps): \n",
    "        # Add ry layer\n",
    "        for q in range(num_qubits):\n",
    "            qc.ry(params[2*(i*num_qubits + q)], q)\n",
    "        # Add rz layer\n",
    "        for q in range(num_qubits):\n",
    "            qc.rx(params[2*(i*num_qubits + q) + 1], q)\n",
    "        # Add entanglement layer (full entanglement: cz gates between every pair)\n",
    "        for source in range(num_qubits):\n",
    "            for target in range(source + 1, num_qubits):\n",
    "                qc.cx(source, target)\n",
    "\n",
    "    return qc\n",
    "\n",
    "\n"
   ]
  },
  {
   "cell_type": "code",
   "execution_count": 57,
   "metadata": {},
   "outputs": [],
   "source": [
    "def prep_vqe(n, reps=1):\n",
    "    '''input:\n",
    "        n: int, number of qubits'''\n",
    "    adam = ADAM(maxiter = 10000)\n",
    "    slsqp = SLSQP(maxiter = 10000)\n",
    "    cobyla = COBYLA(maxiter = 500)\n",
    "    # backend = Aer.get_backend('qasm_simulator')\n",
    "    estimator = Estimator()\n",
    "    ansatz = TwoLocal(n, ['rx', 'ry'], 'cx', reps=reps, entanglement='full')\n",
    "    vqe = VQE(ansatz=ansatz, \n",
    "              optimizer=slsqp, \n",
    "              initial_point=np.random.uniform(low=-np.pi, high=np.pi, size=2 * n * (reps+1)), \n",
    "              estimator=estimator)\n",
    "\n",
    "    return vqe\n",
    "\n",
    "def H(v):\n",
    "    x_coeff = -v/2\n",
    "    y_coeff = v/2\n",
    "    return PauliSumOp.from_list([('ZIII', z_coeff), ('IZII',z_coeff), ('IIZI', z_coeff), ('IIIZ', z_coeff), # all 1 qubit combinations\n",
    "                      ('XXII', x_coeff), ('XIXI', x_coeff), ('XIIX', x_coeff), ('IXXI', x_coeff), ('IXIX', x_coeff), ('IIXX', x_coeff), # all 2 qubit combinations\n",
    "                      ('YYII', y_coeff), ('YIYI', y_coeff), ('YIIY', y_coeff), ('IYYI', y_coeff), ('IYIY', y_coeff), ('IIYY', y_coeff)])\n"
   ]
  },
  {
   "cell_type": "code",
   "execution_count": 58,
   "metadata": {},
   "outputs": [
    {
     "name": "stdout",
     "output_type": "stream",
     "text": [
      "v = 0.0, energy = -1.9999992894090497\n",
      "v = 0.02, energy = -2.000593361812627\n",
      "v = 0.04, energy = -2.0023511919725276\n",
      "v = 0.06, energy = -2.0052312145292714\n",
      "v = 0.08, energy = -2.010208756955065\n",
      "v = 0.1, energy = -2.01634430426168\n",
      "v = 0.12, energy = -2.024039497099089\n",
      "v = 0.14, energy = -2.033292847104438\n",
      "v = 0.16, energy = -2.044164569316065\n",
      "v = 0.18, energy = -2.056658054341491\n",
      "v = 0.2, energy = -2.070859129746371\n",
      "v = 0.22, energy = -2.0867287044302314\n",
      "v = 0.24, energy = -2.1042826219726094\n",
      "v = 0.26, energy = -2.1235048558641383\n",
      "v = 0.28, energy = -2.144426569400874\n",
      "v = 0.3, energy = -2.166952910263208\n",
      "v = 0.32, energy = -2.1910701706478837\n",
      "v = 0.34, energy = -2.2167371571443164\n",
      "v = 0.36, energy = -2.2438840538041913\n",
      "v = 0.38, energy = -2.272499326848558\n",
      "v = 0.4, energy = -2.3025001319213234\n",
      "v = 0.42, energy = -2.3338240297004105\n",
      "v = 0.44, energy = -2.3664072191959344\n",
      "v = 0.46, energy = -2.4002072398014263\n",
      "v = 0.48, energy = -2.4351679934856447\n",
      "v = 0.5, energy = -2.4712219681279164\n",
      "v = 0.52, energy = -2.508313449171683\n",
      "v = 0.54, energy = -2.546387952640586\n",
      "v = 0.56, energy = -2.5853960426417273\n",
      "v = 0.58, energy = -2.6252901273327867\n",
      "v = 0.6, energy = -2.8505213746012816\n",
      "v = 0.62, energy = -2.8977659145886343\n",
      "v = 0.64, energy = -2.9464660654713204\n",
      "v = 0.66, energy = -2.9957006770005004\n",
      "v = 0.68, energy = -3.045461610722017\n",
      "v = 0.7000000000000001, energy = -3.09571468431755\n",
      "v = 0.72, energy = -3.146414527742553\n",
      "v = 0.74, energy = -3.1975440632052035\n",
      "v = 0.76, energy = -3.2491047699861997\n",
      "v = 0.78, energy = -3.30108859968367\n",
      "v = 0.8, energy = -3.3533794882751145\n",
      "v = 0.8200000000000001, energy = -3.406078456088973\n",
      "v = 0.84, energy = -3.459073910223306\n",
      "v = 0.86, energy = -3.5124105754209936\n",
      "v = 0.88, energy = -3.5660673373655603\n",
      "v = 0.9, energy = -3.6199718925491933\n",
      "v = 0.92, energy = -3.682844902487443\n",
      "v = 0.9400000000000001, energy = -3.621547823796034\n",
      "v = 0.96, energy = -3.680713574255108\n",
      "v = 0.98, energy = -3.7402489591272916\n",
      "v = 1.0, energy = -3.80013452850275\n",
      "v = 1.02, energy = -3.8603484840265714\n",
      "v = 1.04, energy = -3.920856915061412\n",
      "v = 1.06, energy = -3.981701404285033\n",
      "v = 1.08, energy = -4.042804575499976\n",
      "v = 1.1, energy = -4.104155818560823\n",
      "v = 1.12, energy = -4.165784218298149\n",
      "v = 1.1400000000000001, energy = -4.227636902994013\n",
      "v = 1.16, energy = -4.289710008911752\n",
      "v = 1.18, energy = -4.351999874283684\n",
      "v = 1.2, energy = -4.414441006185776\n",
      "v = 1.22, energy = -4.477169691204045\n",
      "v = 1.24, energy = -4.54003395111823\n",
      "v = 1.26, energy = -4.603053625991715\n",
      "v = 1.28, energy = -4.666283973781849\n",
      "v = 1.3, energy = -4.729646518145268\n",
      "v = 1.32, energy = -4.793157895300257\n",
      "v = 1.34, energy = -4.856739099283407\n",
      "v = 1.36, energy = -4.920588374398399\n",
      "v = 1.3800000000000001, energy = -4.984525456069613\n",
      "v = 1.4000000000000001, energy = -5.04858117974089\n",
      "v = 1.42, energy = -5.112752017021059\n",
      "v = 1.44, energy = -5.177035034592171\n",
      "v = 1.46, energy = -5.2414288925311245\n",
      "v = 1.48, energy = -5.305932403911069\n",
      "v = 1.5, energy = -5.370533679097623\n",
      "v = 1.52, energy = -5.4352257190610445\n",
      "v = 1.54, energy = -5.500019689572374\n",
      "v = 1.56, energy = -5.56490103997411\n",
      "v = 1.58, energy = -5.629864413856317\n",
      "v = 1.6, energy = -5.694915385605726\n",
      "v = 1.62, energy = -5.760040094856894\n",
      "v = 1.6400000000000001, energy = -5.825244356477321\n",
      "v = 1.6600000000000001, energy = -5.890522436350515\n",
      "v = 1.68, energy = -5.955853742554683\n",
      "v = 1.7, energy = -6.021290757348042\n",
      "v = 1.72, energy = -6.086764047266021\n",
      "v = 1.74, energy = -6.152301335814355\n",
      "v = 1.76, energy = -6.217908013054565\n",
      "v = 1.78, energy = -6.283512204518322\n",
      "v = 1.8, energy = -6.349208733580494\n",
      "v = 1.82, energy = -6.415092852268921\n",
      "v = 1.84, energy = -6.480836464648613\n",
      "v = 1.86, energy = -6.5467483672879005\n",
      "v = 1.8800000000000001, energy = -6.612707956024101\n",
      "v = 1.9000000000000001, energy = -6.678700742124914\n",
      "v = 1.92, energy = -6.744728240203463\n",
      "v = 1.94, energy = -6.810742630399142\n",
      "v = 1.96, energy = -6.87688166308807\n",
      "v = 1.98, energy = -6.943050784757322\n"
     ]
    }
   ],
   "source": [
    "\n",
    "n_qubits=4\n",
    "\n",
    "vs = np.arange(0,2,0.02) # rmb to divide when used\n",
    "n_points=len(vs)\n",
    "vqe = prep_vqe(n_qubits, reps=2)\n",
    "energies = np.zeros(n_points) # containers for the energies\n",
    "\n",
    "for i, v in enumerate(vs):\n",
    "    ham = H(v)\n",
    "    # print(ham)\n",
    "    result = vqe.compute_minimum_eigenvalue(ham)\n",
    "    energies[i] = result.eigenvalue.real\n",
    "    print(f'v = {v}, energy = {result.eigenvalue.real}')\n"
   ]
  },
  {
   "cell_type": "code",
   "execution_count": 24,
   "metadata": {},
   "outputs": [],
   "source": [
    "# plot_2D(vs, [energies,eigs[0],eigs[1], eigs[2]], plot_count=4, \n",
    "#         x_title='v', y_title='Eigenvalues', title='Eigenvalues for J=2 with qiskit',\n",
    "#         label=['vqe-qk', 'eig' ,'eigs', 'eigs[4]'])#, filename='lipkin-4.pdf')\n",
    "# plt.show()"
   ]
  },
  {
   "cell_type": "code",
   "execution_count": 60,
   "metadata": {},
   "outputs": [],
   "source": [
    "def my_ansatz(params):\n",
    "    '''params: list of parameters for the ansatz, [thetas, phis]'''\n",
    "    qubits = Qubits(4)\n",
    "\n",
    "    params = params.reshape(4,2)\n",
    "    for i in range(4):\n",
    "        theta = params[i, 0]\n",
    "        phi = params[i, 1]\n",
    "        qubits.rx(theta, i)\n",
    "        qubits.ry(phi, i)\n",
    "\n",
    "    # more complex pattern of CNOTs for entanglement\n",
    "    toffoli = np.eye(8)\n",
    "    toffoli[-2:, -2:] = np.array([[0, 1], [1, 0]])\n",
    "    qubits.state = np.kron(toffoli, qubits.I) @ qubits.state\n",
    "    qubits.cnot(2, 3)\n",
    "    qubits.cnot(1, 2)\n",
    "    qubits.cnot(0, 1) \n",
    "    \n",
    "    # qubits.cnot(0, 2)  # added\n",
    "    # qubits.cnot(1, 3)  # added\n",
    "\n",
    "    # print(qubits)\n",
    "    return qubits\n",
    "\n",
    "\n",
    "def my_ansatz(params, num_qubits=4, reps=1):\n",
    "    # Create quantum circuit\n",
    "    qc = Qubits(num_qubits)\n",
    "\n",
    "    # Create the layers\n",
    "    for i in range(reps): \n",
    "        for q in range(num_qubits):\n",
    "            qc.ry(params[2*(i*num_qubits + q)], q)\n",
    "\n",
    "        for q in range(num_qubits):\n",
    "            qc.rx(params[2*(i*num_qubits + q) + 1], q)\n",
    "        # Add entanglement layer (full entanglement: cz gates between every pair)\n",
    "        for control in range(num_qubits):\n",
    "            for target in range(control + 1, num_qubits):\n",
    "                qc.cnot(control, target)\n",
    "\n",
    "    return qc\n",
    "\n",
    "\n"
   ]
  },
  {
   "cell_type": "code",
   "execution_count": 61,
   "metadata": {},
   "outputs": [],
   "source": [
    "# Doesn't work\n",
    "def expectation_2(qc, v, n_shots=1000):\n",
    "    '''the expectation value of energy for the hamiltonian'''\n",
    "    x_coeff = -v/2\n",
    "    y_coeff = v/2\n",
    "    coeffs = {'ZIII': 0.5, 'IZII': 0.5, 'IIZI': 0.5, 'IIIZ': 0.5, # all 1 qubit combinations\n",
    "               'XXII': x_coeff, 'XIXI': x_coeff, 'XIIX': x_coeff, 'IXXI': x_coeff, 'IXIX': x_coeff, 'IIXX': x_coeff, # all 2 qubit combinations\n",
    "               'YYII': y_coeff, 'YIYI': y_coeff, 'YIIY': y_coeff, 'IYYI': y_coeff, 'IYIY': y_coeff, 'IIYY': y_coeff}\n",
    "\n",
    "    swaps = {'IIIZ': [(0,3)], 'IIZI': [(0,2)], 'IZII': [(0,1)],\n",
    "             'XXII': [], 'XIXI': [(1, 2)], 'XIIX': [(1, 3)], 'IXXI': [(0, 2)], 'IXIX': [(0, 3)], 'IIXX': [(0, 2), (1, 3)], \n",
    "             'YYII': [], 'YIYI': [(1, 2)], 'YIIY': [(1, 3)], 'IYYI': [(0, 2)], 'IYIY': [(0,3)], 'IIYY': [(0, 2), (1, 3)]}\n",
    "    \n",
    "    # print(qc)\n",
    "    counts = np.zeros((16, 16))\n",
    "\n",
    "    for i, operators in enumerate(coeffs.keys()):\n",
    "\n",
    "        # print(i, operators)\n",
    "        qc_copy = qc.copy()\n",
    "\n",
    "        if operators == 'ZIII':\n",
    "            counts[i] = qc_copy.measure(n_shots)[:, 0]\n",
    "            # print(operators, counts[i])\n",
    "            continue\n",
    "        \n",
    "        cnot_pair = []\n",
    "        for j, operator in enumerate(operators):\n",
    "            if operator == 'X':\n",
    "                # print('X')\n",
    "                cnot_pair.append(j)\n",
    "                qc_copy.hadamard(j)\n",
    "\n",
    "            if operator == 'Y': \n",
    "                # print('Y')\n",
    "                cnot_pair.append(j)\n",
    "                qc_copy.sdag(j)\n",
    "                qc_copy.hadamard(j)\n",
    "        \n",
    "        for pair in swaps[operators]:\n",
    "            qc_copy.swap(pair[0], pair[1])\n",
    "\n",
    "        if cnot_pair:\n",
    "            qc_copy.cnot(cnot_pair[1], cnot_pair[0])\n",
    "            \n",
    "        # print(qc_copy)\n",
    "        counts[i] = qc_copy.measure(n_shots)[:, 0]\n",
    "        # print(operators, counts[i])\n",
    "    \n",
    "    # print(counts/n_shots)\n",
    "    exp_val = 0\n",
    "    coeffs_z = 0.5 * np.ones(4)\n",
    "    coeffs_x = -0.5*v*np.ones(6)\n",
    "    coeffs_y = 0.5*v*np.ones(6)\n",
    "    coeffs = np.concatenate((coeffs_z, coeffs_x, coeffs_y))\n",
    "    counts *= coeffs\n",
    "    # counts = counts * np.array(list(coeffs.values()))\n",
    "    # print(counts.shape)\n",
    "    # print(coeffs.values())\n",
    "    for count in counts:\n",
    "        # print(count)\n",
    "        for i, state_count in enumerate(count):\n",
    "            # print(i ,state_count)\n",
    "            if i < 8:\n",
    "                exp_val += state_count\n",
    "            else:\n",
    "                exp_val -= state_count\n",
    "    # print(exp_val)\n",
    "    return  exp_val / n_shots\n",
    "\n",
    "# a, qc\n",
    "# #print(qc.swap(3,0))\n",
    "# test = 0.5\n",
    "# for _ in range(10):\n",
    "#     a = np.random.uniform(low=-np.pi, high=np.pi, size=8)\n",
    "#     a = np.ones(8)\n",
    "#     qc = my_ansatz(a)\n",
    "#     ex = qc.state.conj() @ my_H(test) @ qc.state\n",
    "#     b = expectation_2(qc, test, 10000)\n",
    "#     print(f\"{ex.real:.3f}, {b:.3f}\")"
   ]
  },
  {
   "cell_type": "code",
   "execution_count": 62,
   "metadata": {},
   "outputs": [
    {
     "name": "stderr",
     "output_type": "stream",
     "text": [
      "/Users/bukser/mambaforge/envs/qiskit/lib/python3.8/site-packages/scipy/optimize/_optimize.py:3397: ComplexWarning: Casting complex values to real discards the imaginary part\n",
      "  direc[-1] = direc1\n"
     ]
    }
   ],
   "source": [
    "n_points = 100\n",
    "# print(Vqe)\n",
    "\n",
    "init_points = np.random.uniform(low=-np.pi, high=np.pi, size=8)\n",
    "# my_vqe = Vqe(my_ansatz, init_points, expectation=expectation_2)\n",
    "my_vqe = Vqe(my_ansatz, init_points)\n",
    "# print(my_vqe)\n",
    "my_energies = np.zeros(n_points)\n",
    "vs = np.linspace(0, 2, n_points)\n",
    "for i, v in enumerate(vs):\n",
    "    my_ham = my_H(v)\n",
    "    # print(my_ham)\n",
    "    min_params, min_energy = my_vqe.minimise_eigenvalue(my_ham, v, 1000)\n",
    "    # print(f\"v: {v}, energy: {min_energy.real}\")\n",
    "    my_energies[i] = min_energy.real\n"
   ]
  },
  {
   "cell_type": "code",
   "execution_count": 64,
   "metadata": {},
   "outputs": [],
   "source": [
    "# plot_2D([vs,np.arange(0,2, 0.01)], [my_energies, eigs[0]], plot_count=2, multi_x=True)\n",
    "def exact(v):\n",
    "    return - 2 * np.sqrt((1 + 3 * v**2)), - np.sqrt((1 + 9 * v**2)), \n",
    "\n",
    "\n",
    "plot_2D(vs, [eigs[0], exact(vs)[0]], plot_count=2, label=[r'$E_0$', r'$exact_0$'], filename=\"lipkin-4.pdf\")\n",
    "plot_2D(vs, [my_energies, energies, eigs[0], exact(vs)[0]], plot_count=4, \n",
    "        x_title=r'v/$\\epsilon$', y_title='Eigenvalues', title='Ground state energies for J=2',\n",
    "        label=['vqe-base','vqe-qk', r'$E_0$', r'$exact_0$'], filename='lipkin-4.pdf')\n",
    "# plt.plot(vs, my_energies)\n",
    "# plt.show()"
   ]
  }
 ],
 "metadata": {
  "kernelspec": {
   "display_name": "qiskit",
   "language": "python",
   "name": "python3"
  },
  "language_info": {
   "codemirror_mode": {
    "name": "ipython",
    "version": 3
   },
   "file_extension": ".py",
   "mimetype": "text/x-python",
   "name": "python",
   "nbconvert_exporter": "python",
   "pygments_lexer": "ipython3",
   "version": "3.8.16"
  },
  "orig_nbformat": 4
 },
 "nbformat": 4,
 "nbformat_minor": 2
}
