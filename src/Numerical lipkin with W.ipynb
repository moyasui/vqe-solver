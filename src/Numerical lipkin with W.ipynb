{
 "cells": [
  {
   "cell_type": "code",
   "execution_count": 2,
   "metadata": {},
   "outputs": [],
   "source": [
    "from base import *\n",
    "from utils import pauli_sum, entropy\n",
    "from plot_tools import *\n",
    "import qiskit as qk\n",
    "from qiskit import QuantumCircuit, Aer, execute\n",
    "from qiskit.primitives import Estimator\n",
    "# from qiskit.utils import QuantumInstance\n",
    "# from qiskit.algorithms import VQE\n",
    "from qiskit.algorithms.minimum_eigensolvers import VQE\n",
    "from qiskit.algorithms.optimizers import SLSQP, ADAM, COBYLA\n",
    "from qiskit.opflow import X, Z, I, Y, AerPauliExpectation, PauliSumOp\n",
    "from qiskit.circuit import Parameter \n",
    "from qiskit.circuit.library import TwoLocal\n",
    "import numpy as np"
   ]
  },
  {
   "cell_type": "code",
   "execution_count": 3,
   "metadata": {},
   "outputs": [],
   "source": [
    "from algorithms import Vqe "
   ]
  },
  {
   "attachments": {},
   "cell_type": "markdown",
   "metadata": {},
   "source": [
    "## J=2"
   ]
  },
  {
   "cell_type": "code",
   "execution_count": 14,
   "metadata": {},
   "outputs": [],
   "source": [
    "# constants\n",
    "eps = 1\n",
    "z_coeff = 0.5 * eps\n",
    "\n"
   ]
  },
  {
   "cell_type": "code",
   "execution_count": 15,
   "metadata": {},
   "outputs": [],
   "source": [
    "\n",
    "def H(V,W):\n",
    "    return np.array([[-2*eps, 0, np.sqrt(6)*V, 0, 0],\n",
    "                  [0, -eps+3*W, 0, 3*V, 0],\n",
    "                  [np.sqrt(6)*V, 4*W, 0, 0, np.sqrt(6)*V],\n",
    "                  [0, 3*V, 0, eps+3*W, 0],\n",
    "                  [0, 0, np.sqrt(6)*V, 0, 2*eps]])\n",
    "\n",
    "# H(0)\n",
    "\n",
    "# def my_H(v):\n",
    "    \n",
    "#     x_coeff = -v/2\n",
    "#     y_coeff = v/2\n",
    "#     return pauli_sum([('ZIII', z_coeff), ('IZII', z_coeff), ('IIZI', z_coeff), ('IIIZ', z_coeff), # all 1 qubit combinations\n",
    "#                       ('XXII', x_coeff), ('XIXI', x_coeff), ('XIIX', x_coeff), ('IXXI', x_coeff), ('IXIX', x_coeff), ('IIXX', x_coeff), # all 2 qubit combinations\n",
    "#                       ('YYII', y_coeff), ('YIYI', y_coeff), ('YIIY', y_coeff), ('IYYI', y_coeff), ('IYIY', y_coeff), ('IIYY', y_coeff)])\n",
    "\n",
    "# my_H(0)"
   ]
  },
  {
   "cell_type": "code",
   "execution_count": 26,
   "metadata": {},
   "outputs": [],
   "source": [
    "vs = np.arange(0, 2, 0.02)\n",
    "# ws = np.arange(0, 2, 0.02)\n",
    "eigs = np.zeros((5, len(vs)))\n",
    "\n",
    "# let v=w\n",
    "for i, v in enumerate(vs):\n",
    "    eigvals, eigvecs = np.linalg.eig(H(v,v))\n",
    "    eigs[:,i] = sorted(eigvals)"
   ]
  },
  {
   "cell_type": "code",
   "execution_count": 28,
   "metadata": {},
   "outputs": [],
   "source": [
    "plot_2D(vs, eigs, plot_count=5, title=r\"Numerical Eigenvalues for $J=2$ with v=w\", x_title=r'$v$', \n",
    "        label = [rf'$E_{i}$' for i in range(5)], y_title='Energies for v=w', filename='lipkin-eigs-4-w.pdf')\n",
    "        #  filename='lipkin-eigs-4.pdf')"
   ]
  },
  {
   "attachments": {},
   "cell_type": "markdown",
   "metadata": {},
   "source": [
    "As we can see, every eigenvalue has a degenerate value. However $E_3$ and $E_{14}$ are energy eigenvalues that we do not get from the 5x5 matrix. "
   ]
  },
  {
   "cell_type": "code",
   "execution_count": 29,
   "metadata": {},
   "outputs": [],
   "source": [
    "def ansatz(num_qubits, reps):\n",
    "    # Create quantum circuit\n",
    "    qc = QuantumCircuit(num_qubits)\n",
    "\n",
    "    # Define parameters\n",
    "    params = [Parameter(f'theta_{i}') for i in range(2 * num_qubits * (reps+1))]\n",
    "\n",
    "    # Create the layers\n",
    "    for i in range(reps): \n",
    "        # Add ry layer\n",
    "        for q in range(num_qubits):\n",
    "            qc.ry(params[2*(i*num_qubits + q)], q)\n",
    "        # Add rz layer\n",
    "        for q in range(num_qubits):\n",
    "            qc.rx(params[2*(i*num_qubits + q) + 1], q)\n",
    "        # Add entanglement layer (full entanglement: cz gates between every pair)\n",
    "        for source in range(num_qubits):\n",
    "            for target in range(source + 1, num_qubits):\n",
    "                qc.cx(source, target)\n",
    "\n",
    "    return qc\n",
    "\n",
    "\n"
   ]
  }
 ],
 "metadata": {
  "kernelspec": {
   "display_name": "qiskit",
   "language": "python",
   "name": "python3"
  },
  "language_info": {
   "codemirror_mode": {
    "name": "ipython",
    "version": 3
   },
   "file_extension": ".py",
   "mimetype": "text/x-python",
   "name": "python",
   "nbconvert_exporter": "python",
   "pygments_lexer": "ipython3",
   "version": "3.8.16"
  },
  "orig_nbformat": 4
 },
 "nbformat": 4,
 "nbformat_minor": 2
}
