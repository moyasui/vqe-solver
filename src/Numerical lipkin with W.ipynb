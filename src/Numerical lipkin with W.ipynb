{
 "cells": [
  {
   "cell_type": "code",
   "execution_count": 1,
   "metadata": {},
   "outputs": [],
   "source": [
    "from base import *\n",
    "from utils import pauli_sum, entropy\n",
    "import plot_utils\n",
    "from plot_tools import *\n",
    "import qiskit as qk\n",
    "from qiskit import QuantumCircuit, Aer, execute\n",
    "from qiskit.primitives import Estimator\n",
    "# from qiskit.utils import QuantumInstance\n",
    "# from qiskit.algorithms import VQE\n",
    "from qiskit.algorithms.minimum_eigensolvers import VQE\n",
    "from qiskit.algorithms.optimizers import SLSQP, ADAM, COBYLA\n",
    "from qiskit.opflow import X, Z, I, Y, AerPauliExpectation, PauliSumOp\n",
    "from qiskit.circuit import Parameter \n",
    "from qiskit.circuit.library import TwoLocal\n",
    "import numpy as np"
   ]
  },
  {
   "cell_type": "code",
   "execution_count": 2,
   "metadata": {},
   "outputs": [],
   "source": [
    "from algorithms import Vqe "
   ]
  },
  {
   "attachments": {},
   "cell_type": "markdown",
   "metadata": {},
   "source": [
    "## J=2"
   ]
  },
  {
   "cell_type": "code",
   "execution_count": 3,
   "metadata": {},
   "outputs": [],
   "source": [
    "# constants\n",
    "eps = 1\n",
    "z_coeff = 0.5 * eps\n",
    "\n"
   ]
  },
  {
   "cell_type": "code",
   "execution_count": 31,
   "metadata": {},
   "outputs": [],
   "source": [
    "\n",
    "def H(V,W):\n",
    "    return np.array([[-2*eps, 0, np.sqrt(6)*V, 0, 0],\n",
    "                  [0, -eps+3*W, 0, 3*V, 0],\n",
    "                  [np.sqrt(6)*V, 0, 4*W, 0, np.sqrt(6)*V],\n",
    "                  [0, 3*V, 0, eps+3*W, 0],\n",
    "                  [0, 0, np.sqrt(6)*V, 0, 2*eps]])\n",
    "\n",
    "\n",
    "# def my_H(v):\n",
    "    \n",
    "#     x_coeff = -v/2\n",
    "#     y_coeff = v/2\n",
    "#     return pauli_sum([('ZIII', z_coeff), ('IZII', z_coeff), ('IIZI', z_coeff), ('IIIZ', z_coeff), # all 1 qubit combinations\n",
    "#                       ('XXII', x_coeff), ('XIXI', x_coeff), ('XIIX', x_coeff), ('IXXI', x_coeff), ('IXIX', x_coeff), ('IIXX', x_coeff), # all 2 qubit combinations\n",
    "#                       ('YYII', y_coeff), ('YIYI', y_coeff), ('YIIY', y_coeff), ('IYYI', y_coeff), ('IYIY', y_coeff), ('IIYY', y_coeff)])\n",
    "\n",
    "# my_H(0)"
   ]
  },
  {
   "cell_type": "code",
   "execution_count": 34,
   "metadata": {},
   "outputs": [
    {
     "name": "stdout",
     "output_type": "stream",
     "text": [
      "(10,) (10,)\n"
     ]
    }
   ],
   "source": [
    "vs = np.arange(0, 1, 0.1)\n",
    "ws = np.arange(0, 1, 0.1)\n",
    "# vs, ws = np.meshgrid(vs, ws) \n",
    "print(vs.shape, ws.shape)\n",
    "eigs = np.zeros((5, len(vs), len(ws)))\n",
    "\n",
    "for i, v in enumerate(vs):\n",
    "    for j, w in enumerate(ws):\n",
    "        # print(H(v,w))\n",
    "        eigvals, eigvecs = np.linalg.eig(H(v, w))\n",
    "        # print(eigvals)\n",
    "        eigs[:, i, j] = sorted(eigvals)\n",
    "\n",
    "\n",
    "t = np.arange(0,10)\n",
    "t = t/10\n",
    "sns.heatmap(eigs[0].T, cmap='viridis', xticklabels=t, yticklabels=t)\n",
    "\n",
    "# Set labels and title\n",
    "plt.xlabel('v')\n",
    "plt.ylabel('w')\n",
    "# plt.show()\n",
    "plt.title('Eigenvalues Heatmap')\n",
    "# eigs[0, 2, :]\n",
    "plt.xlabel(r\"$\\frac{v}{\\epsilon}$\")\n",
    "plt.ylabel(r\"$\\frac{w}{\\epsilon}$\")\n",
    "save_fig(\"lipkin-w-eig.pdf\")"
   ]
  },
  {
   "cell_type": "code",
   "execution_count": 6,
   "metadata": {},
   "outputs": [],
   "source": [
    "# vs = np.arange(0, 2, 0.02)\n",
    "# ws = np.arange(0, 2, 0.02)\n",
    "# eigs = np.zeros((5, len(vs)))\n",
    "\n",
    "# # let v=w\n",
    "# v=0\n",
    "# for i, w in enumerate(ws):\n",
    "#     eigvals, eigvecs = np.linalg.eig(H(0,w))\n",
    "#     eigs[:,i] = sorted(eigvals)\n",
    "\n",
    "# plot_2D(vs, eigs[0], plot_count=1, title=r\"Numerical Eigenvalues for $J=2$ with v=w\", x_title=r'$v$', \n",
    "#         label = [rf'$E_{i}$' for i in range(5)], y_title='Energies for v=1')"
   ]
  },
  {
   "cell_type": "code",
   "execution_count": 7,
   "metadata": {},
   "outputs": [],
   "source": [
    "# plot_2D(vs, eigs, plot_count=5, title=r\"Numerical Eigenvalues for $J=2$ with v=w\", x_title=r'$v$', \n",
    "#         label = [rf'$E_{i}$' for i in range(5)], y_title='Energies for v=w', filename='lipkin-eigs-4-w.pdf')"
   ]
  },
  {
   "cell_type": "code",
   "execution_count": 8,
   "metadata": {},
   "outputs": [],
   "source": [
    "# ax.plot_surface(vs, ws, eigs[0, :, :])  # Plotting the first eigenvalue (you can change the index to plot different eigenvalues)\n",
    "\n",
    "# Create a heatmap using Seaborn\n"
   ]
  },
  {
   "attachments": {},
   "cell_type": "markdown",
   "metadata": {},
   "source": [
    "As we can see, every eigenvalue has a degenerate value. However $E_3$ and $E_{14}$ are energy eigenvalues that we do not get from the 5x5 matrix. "
   ]
  },
  {
   "cell_type": "code",
   "execution_count": 9,
   "metadata": {},
   "outputs": [],
   "source": [
    "def my_H(v, w):\n",
    "    \n",
    "    x_coeff = -v/2 + w\n",
    "    y_coeff = v/2 + w\n",
    "    return PauliSumOp.from_list([('IIII', 2*w), \n",
    "                                ('ZIII', z_coeff), ('IZII', z_coeff), ('IIZI', z_coeff), ('IIIZ', z_coeff), # all 1 qubit combinations\n",
    "                                ('XXII', x_coeff), ('XIXI', x_coeff), ('XIIX', x_coeff), ('IXXI', x_coeff), ('IXIX', x_coeff), ('IIXX', x_coeff), # all 2 qubit combinations\n",
    "                                ('YYII', y_coeff), ('YIYI', y_coeff), ('YIIY', y_coeff), ('IYYI', y_coeff), ('IYIY', y_coeff), ('IIYY', y_coeff)])\n",
    "\n",
    "# my_H(0)"
   ]
  },
  {
   "cell_type": "code",
   "execution_count": 10,
   "metadata": {},
   "outputs": [],
   "source": [
    "def prep_vqe(n,reps):\n",
    "    '''input:\n",
    "        n: int, number of qubits'''\n",
    "    adam = ADAM(maxiter = 10000)\n",
    "    slsqp = SLSQP(maxiter = 5000)\n",
    "    cobyla = COBYLA(maxiter = 500)\n",
    "    # backend = Aer.get_backend('qasm_simulator')\n",
    "    estimator = Estimator()\n",
    "    ansatz = TwoLocal(n, ['rx', 'ry'], 'cx', reps=reps, entanglement='full')\n",
    "    vqe = VQE(ansatz = ansatz,\n",
    "              optimizer=slsqp, \n",
    "              initial_point=np.random.uniform(low=-np.pi, high=np.pi, size=2 * n * (reps+1)), \n",
    "              estimator=estimator)\n",
    "\n",
    "    return vqe"
   ]
  },
  {
   "cell_type": "code",
   "execution_count": 11,
   "metadata": {},
   "outputs": [
    {
     "name": "stdout",
     "output_type": "stream",
     "text": [
      "v = 0.0, w = 0.0, energy = -1.9999999506667598\n",
      "v = 0.0, w = 0.1, energy = -1.7999995950412353\n",
      "v = 0.0, w = 0.2, energy = -1.5999989949794478\n",
      "v = 0.0, w = 0.30000000000000004, energy = -0.9999995326817644\n",
      "v = 0.0, w = 0.4, energy = -0.9999998274754055\n",
      "v = 0.0, w = 0.5, energy = -0.9999998646248296\n",
      "v = 0.0, w = 0.6000000000000001, energy = -1.1999997967430203\n",
      "v = 0.0, w = 0.7000000000000001, energy = -1.3999998107706475\n",
      "v = 0.0, w = 0.8, energy = -1.5999946317078604\n",
      "v = 0.0, w = 0.9, energy = -1.7999986672281632\n",
      "v = 0.1, w = 0.0, energy = -2.015530693163918\n",
      "v = 0.1, w = 0.1, energy = -1.8137909355651434\n",
      "v = 0.1, w = 0.2, energy = -1.004986984145781\n",
      "v = 0.1, w = 0.30000000000000004, energy = -1.004978467582423\n",
      "v = 0.1, w = 0.4, energy = -1.00497215803783\n",
      "v = 0.1, w = 0.5, energy = -1.0049860405955966\n",
      "v = 0.1, w = 0.6000000000000001, energy = -1.1999996337540708\n",
      "v = 0.1, w = 0.7000000000000001, energy = -1.3999963098685795\n",
      "v = 0.1, w = 0.8, energy = -1.5999987592875096\n",
      "v = 0.1, w = 0.9, energy = -1.7999993098861187\n",
      "v = 0.2, w = 0.0, energy = -2.0677951313273866\n",
      "v = 0.2, w = 0.1, energy = -1.8569952733062867\n",
      "v = 0.2, w = 0.2, energy = -1.6497780986705846\n",
      "v = 0.2, w = 0.30000000000000004, energy = -1.0197938152295851\n",
      "v = 0.2, w = 0.4, energy = -1.0197675447399992\n",
      "v = 0.2, w = 0.5, energy = -1.0197905494201118\n",
      "v = 0.2, w = 0.6000000000000001, energy = -1.1999764860554811\n",
      "v = 0.2, w = 0.7000000000000001, energy = -1.3999884140177397\n",
      "v = 0.2, w = 0.8, energy = -1.5999997413620597\n",
      "v = 0.2, w = 0.9, energy = -1.7999999912286977\n",
      "v = 0.30000000000000004, w = 0.0, energy = -2.15970540081746\n",
      "v = 0.30000000000000004, w = 0.1, energy = -1.9314851619538957\n",
      "v = 0.30000000000000004, w = 0.2, energy = -1.7135263647813022\n",
      "v = 0.30000000000000004, w = 0.30000000000000004, energy = -1.0440305122199174\n",
      "v = 0.30000000000000004, w = 0.4, energy = -1.0440304868065886\n",
      "v = 0.30000000000000004, w = 0.5, energy = -1.0439833636988793\n",
      "v = 0.30000000000000004, w = 0.6000000000000001, energy = -1.1999895562922973\n",
      "v = 0.30000000000000004, w = 0.7000000000000001, energy = -1.3999999303694122\n",
      "v = 0.30000000000000004, w = 0.8, energy = -1.5999999560111209\n",
      "v = 0.30000000000000004, w = 0.9, energy = -1.7999995980471075\n",
      "v = 0.4, w = 0.0, energy = -2.094562985863312\n",
      "v = 0.4, w = 0.1, energy = -2.037689299509037\n",
      "v = 0.4, w = 0.2, energy = -1.8034638515742545\n",
      "v = 0.4, w = 0.30000000000000004, energy = -1.0770261547737578\n",
      "v = 0.4, w = 0.4, energy = -1.0770325343573335\n",
      "v = 0.4, w = 0.5, energy = -1.0770329266618737\n",
      "v = 0.4, w = 0.6000000000000001, energy = -1.199974442499906\n",
      "v = 0.4, w = 0.7000000000000001, energy = -1.3999979592512501\n",
      "v = 0.4, w = 0.8, energy = -1.5999999740684623\n",
      "v = 0.4, w = 0.9, energy = -1.7999997988755037\n",
      "v = 0.5, w = 0.0, energy = -2.4640820839704385\n",
      "v = 0.5, w = 0.1, energy = -2.174526833059218\n",
      "v = 0.5, w = 0.2, energy = -1.9189723820953817\n",
      "v = 0.5, w = 0.30000000000000004, energy = -1.6814446911485283\n",
      "v = 0.5, w = 0.4, energy = -1.1180290904172714\n",
      "v = 0.5, w = 0.5, energy = -1.118033632627736\n",
      "v = 0.5, w = 0.6000000000000001, energy = -1.1999951192629774\n",
      "v = 0.5, w = 0.7000000000000001, energy = -1.3999982048566693\n",
      "v = 0.5, w = 0.8, energy = -1.5999999035344104\n",
      "v = 0.5, w = 0.9, energy = -1.7999999426473816\n",
      "v = 0.6000000000000001, w = 0.0, energy = -2.667761762609669\n",
      "v = 0.6000000000000001, w = 0.1, energy = -2.3396767375918848\n",
      "v = 0.6000000000000001, w = 0.2, energy = -2.058809538689883\n",
      "v = 0.6000000000000001, w = 0.30000000000000004, energy = -1.8038724407043163\n",
      "v = 0.6000000000000001, w = 0.4, energy = -1.166185128914226\n",
      "v = 0.6000000000000001, w = 0.5, energy = -1.1661898945387819\n",
      "v = 0.6000000000000001, w = 0.6000000000000001, energy = -1.1999993935881115\n",
      "v = 0.6000000000000001, w = 0.7000000000000001, energy = -1.3999998384348291\n",
      "v = 0.6000000000000001, w = 0.8, energy = -1.5999997231104344\n",
      "v = 0.6000000000000001, w = 0.9, energy = -1.7999998658590481\n",
      "v = 0.7000000000000001, w = 0.0, energy = -2.8971046881833526\n",
      "v = 0.7000000000000001, w = 0.1, energy = -2.530024254519857\n",
      "v = 0.7000000000000001, w = 0.2, energy = -2.2212878166565115\n",
      "v = 0.7000000000000001, w = 0.30000000000000004, energy = -1.946482966415429\n",
      "v = 0.7000000000000001, w = 0.4, energy = -1.6937011149980157\n",
      "v = 0.7000000000000001, w = 0.5, energy = -1.2206553697301021\n",
      "v = 0.7000000000000001, w = 0.6000000000000001, energy = -1.2206250893025286\n",
      "v = 0.7000000000000001, w = 0.7000000000000001, energy = -1.3999994331575225\n",
      "v = 0.7000000000000001, w = 0.8, energy = -1.5999995527054263\n",
      "v = 0.7000000000000001, w = 0.9, energy = -1.7999999597770548\n",
      "v = 0.8, w = 0.0, energy = -3.1460310987695723\n",
      "v = 0.8, w = 0.1, energy = -2.7421271412617525\n",
      "v = 0.8, w = 0.2, energy = -2.4044312604628737\n",
      "v = 0.8, w = 0.30000000000000004, energy = -2.1080088873967506\n",
      "v = 0.8, w = 0.4, energy = -1.839017157662057\n",
      "v = 0.8, w = 0.5, energy = -1.280624564911219\n",
      "v = 0.8, w = 0.6000000000000001, energy = -1.2806245297548948\n",
      "v = 0.8, w = 0.7000000000000001, energy = -1.3999992362523959\n",
      "v = 0.8, w = 0.8, energy = -1.5999996165848114\n",
      "v = 0.8, w = 0.9, energy = -1.799999749593529\n",
      "v = 0.9, w = 0.0, energy = -3.4096948809156946\n",
      "v = 0.9, w = 0.1, energy = -2.9725837795395473\n",
      "v = 0.9, w = 0.2, energy = -2.6061215225915255\n",
      "v = 0.9, w = 0.30000000000000004, energy = -2.2870601388555625\n",
      "v = 0.9, w = 0.4, energy = -2.0005420222499692\n",
      "v = 0.9, w = 0.5, energy = -1.3453622030147043\n",
      "v = 0.9, w = 0.6000000000000001, energy = -1.345361184308528\n",
      "v = 0.9, w = 0.7000000000000001, energy = -1.3999988240726995\n",
      "v = 0.9, w = 0.8, energy = -1.599999671795572\n",
      "v = 0.9, w = 0.9, energy = -1.7999997917483581\n"
     ]
    }
   ],
   "source": [
    "n_qubits=4\n",
    "\n",
    "vs = np.arange(0, 1, 0.1) # rmb to divide when used\n",
    "ws = np.arange(0, 1, 0.1)\n",
    "n_points = len(vs)\n",
    "vqe = prep_vqe(n_qubits, reps=1)\n",
    "energies = np.zeros((len(vs), len(vs))) # containers for the energies\n",
    "\n",
    "for i, v in enumerate(vs):\n",
    "    for j, w in enumerate(ws):\n",
    "        # print(ham)\n",
    "        result = vqe.compute_minimum_eigenvalue(my_H(v,w))\n",
    "        energies[i, j] = result.eigenvalue.real\n",
    "        print(f'v = {v}, w = {w}, energy = {result.eigenvalue.real}')\n",
    "\n",
    "\n"
   ]
  },
  {
   "cell_type": "code",
   "execution_count": 30,
   "metadata": {},
   "outputs": [],
   "source": [
    "t = np.arange(0,10)\n",
    "t = t/10\n",
    "sns.heatmap(energies.T, cmap='viridis', xticklabels=t, yticklabels=t)\n",
    "plt.title(\"VQE ground state energy eigenvalues with qiskit\")\n",
    "plt.xlabel(r\"$\\frac{v}{\\epsilon}$\")\n",
    "plt.ylabel(r\"$\\frac{w}{\\epsilon}$\")\n",
    "save_fig(\"lipkin-4-w.pdf\")"
   ]
  },
  {
   "cell_type": "code",
   "execution_count": 33,
   "metadata": {},
   "outputs": [],
   "source": [
    "def calculate_relative_error(true_value, predicted_value):\n",
    "    # Calculate the absolute difference between true and predicted values\n",
    "    abs_diff = abs(true_value - predicted_value)\n",
    "\n",
    "    # Calculate the relative error\n",
    "    relative_error = abs_diff / abs(true_value)\n",
    "\n",
    "    return relative_error\n",
    "t = np.arange(0,10)\n",
    "t = t/10\n",
    "rel_error = calculate_relative_error(eigs[0], energies)\n",
    "sns.heatmap(rel_error.T, cmap='viridis', xticklabels=t, yticklabels=t)\n",
    "plt.title(\"Relative Error for VQE\")\n",
    "plt.xlabel(r\"$\\frac{v}{\\epsilon}$\")\n",
    "plt.ylabel(r\"$\\frac{w}{\\epsilon}$\")\n",
    "save_fig(\"rel-error.pdf\")"
   ]
  },
  {
   "cell_type": "code",
   "execution_count": null,
   "metadata": {},
   "outputs": [],
   "source": []
  }
 ],
 "metadata": {
  "kernelspec": {
   "display_name": "qiskit",
   "language": "python",
   "name": "python3"
  },
  "language_info": {
   "codemirror_mode": {
    "name": "ipython",
    "version": 3
   },
   "file_extension": ".py",
   "mimetype": "text/x-python",
   "name": "python",
   "nbconvert_exporter": "python",
   "pygments_lexer": "ipython3",
   "version": "3.8.16"
  },
  "orig_nbformat": 4
 },
 "nbformat": 4,
 "nbformat_minor": 2
}
