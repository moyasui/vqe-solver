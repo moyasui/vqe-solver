{
 "cells": [
  {
   "cell_type": "code",
   "execution_count": 1,
   "metadata": {},
   "outputs": [],
   "source": [
    "from base import *\n",
    "from utils import pauli_sum, entropy\n",
    "from plot_tools import *\n",
    "import plot_utils\n",
    "import qiskit as qk\n",
    "from qiskit import QuantumCircuit, Aer, execute\n",
    "from qiskit.primitives import Estimator\n",
    "# from qiskit.utils import QuantumInstance\n",
    "# from qiskit.algorithms import VQE\n",
    "from qiskit.algorithms.minimum_eigensolvers import VQE\n",
    "from qiskit.algorithms.optimizers import SLSQP, ADAM, COBYLA\n",
    "from qiskit.opflow import X, Z, I, Y, AerPauliExpectation, PauliSumOp\n",
    "from qiskit.circuit import Parameter\n",
    "import numpy as np\n",
    "import seaborn as sns\n",
    "\n"
   ]
  },
  {
   "attachments": {},
   "cell_type": "markdown",
   "metadata": {},
   "source": [
    "## The Two qubit systems\n",
    "$$\n",
    "H_{\\mathrm{I}}=H_x\\sigma_x\\otimes\\sigma_x+H_z\\sigma_z\\otimes\\sigma_z,\n",
    "$$"
   ]
  },
  {
   "cell_type": "code",
   "execution_count": 2,
   "metadata": {},
   "outputs": [
    {
     "data": {
      "text/plain": [
       "array([[0. , 0. , 0. , 0. ],\n",
       "       [0. , 2.5, 0. , 0. ],\n",
       "       [0. , 0. , 6.5, 0. ],\n",
       "       [0. , 0. , 0. , 7. ]])"
      ]
     },
     "execution_count": 2,
     "metadata": {},
     "output_type": "execute_result"
    }
   ],
   "source": [
    "# Constant\n",
    "Hx = 2.0\n",
    "Hz = 3.0\n",
    "\n",
    "# H_0\n",
    "H0_coeff = np.array([0.0, 2.5, 6.5, 7.0])\n",
    "H0 = np.diag(H0_coeff)\n",
    "\n",
    "\n",
    "H1 = np.array([[Hz, 0, 0, 0],\n",
    "            [0, -Hz, Hx, 0],\n",
    "            [0,  Hx, -Hz, 0],\n",
    "            [Hx, 0, 0, + Hz]])\n",
    "H0"
   ]
  },
  {
   "attachments": {},
   "cell_type": "markdown",
   "metadata": {},
   "source": [
    "### Classical numerical solver for the eigenvalues and the Von Neumann entropy \n",
    "\n",
    "$$\n",
    "S(A,B)=-\\mathrm{Tr}\\left(\\rho_{A,B}\\log_2 (\\rho_{A,B})\\right).\n",
    "$$"
   ]
  },
  {
   "cell_type": "code",
   "execution_count": 78,
   "metadata": {},
   "outputs": [
    {
     "data": {
      "text/plain": [
       "(4, 100)"
      ]
     },
     "execution_count": 78,
     "metadata": {},
     "output_type": "execute_result"
    }
   ],
   "source": [
    "def H(lmb):\n",
    "    return H0 + lmb * H1\n",
    "\n",
    "# def partial_trace(state, i):\n",
    "'''deprecated, replaced by np.einsum'''\n",
    "#     state0 = np.array([1,0])\n",
    "#     state1 = np.array([0,1])\n",
    "#     density = np.outer(state, np.conj(state))\n",
    "#     op0 = np.kron(state0, I) if i == 0 else np.kron(I, state0)\n",
    "#     op1 = np.kron(state1, I) if i == 0 else np.kron(I, state1)\n",
    "#     return op0.conj() @ density @ op0.T + op1.conj() @ density @ op1.T\n",
    "\n",
    "\n",
    "\n",
    "lmbs = np.arange(0, 1, 0.01)\n",
    "eigs = np.zeros((4, len(lmbs)))\n",
    "entropies = np.zeros((4, len(lmbs)))\n",
    "vn_entropies = np.zeros((4, len(lmbs)))\n",
    "\n",
    "for i, lmb in enumerate(lmbs):\n",
    "    ham = H(lmb)\n",
    "    eigvals, eigvecs = np.linalg.eig(ham)\n",
    "    eigs[:,i] = sorted(eigvals)\n",
    "    lmb_entropy = np.zeros(4)\n",
    "    vn_entropies[:,i] = entropy(ham, np.arange(4))[0] # returns both, doesn't matter which one you take\n",
    "    # vn_entropies[:,i] = entropy(ham, 0)[0]\n",
    "\n",
    "vn_entropies.shape"
   ]
  },
  {
   "cell_type": "code",
   "execution_count": 80,
   "metadata": {},
   "outputs": [],
   "source": [
    "plot_2D(lmbs, eigs, plot_count=4, title=r\"Numerical Eigenvalues for 2 Qubit system vs $\\lambda$\", x_title=r'$\\lambda$', y_title='Energies',label=[r'$E_0$', r'$E_1$', r'$E_2$', r'$E_3$'], filename='eigs-2-cl.pdf')\n",
    "plot_2D(lmbs, vn_entropies[0], plot_count=1, label=[f\"Entropy {i}\" for i in range(4)],title=\"Entropies\", x_title=r'$\\lambda$', y_title='Entropies',filename='entropies-2-0.pdf')"
   ]
  },
  {
   "attachments": {},
   "cell_type": "markdown",
   "metadata": {},
   "source": [
    "### VQE\n",
    "\n",
    "First we need to rewrite the hamiltonian in terms of Pauli matrices.\n",
    "$$ H_0 = \\begin{bmatrix}\n",
    "    0 & 0 & 0 & 0  \\\\\n",
    "    0 & 2.5 & 0 & 0  \\\\\n",
    "    0 & 0 & 6.5 & 0 \\\\\n",
    "    0 & 0 & 0 & 7 \n",
    "    \\end{bmatrix}\n",
    "$$\n",
    "\n",
    "Rewrite $H_0$ in terms of the computational basis $Z$ and $I$.\n",
    "$$\n",
    "    H_0 = a I\\otimes I + b I\\otimes Z + cZ\\otimes I + dZ\\otimes Z,\n",
    "$$\n",
    "Solving the above equations, we get\n",
    "$$\n",
    "a = 4, b = -0.75, c = -2.75, d = -0.5\n",
    "$$\n",
    "\n",
    "and using the gates we have to switch to the computational basis $Z \\otimes I$ we have:\n",
    "\n",
    "Let the swap gate be denoted by $\\mathcal{S}$, and cnot gate with control on qubit 1 and target on qubit 0 be $\\mathcal{CN}$.\n",
    "$$\n",
    "\\newcommand{\\swap}{\\mathcal{S}} \n",
    "\\newcommand{\\cnot}{\\mathcal{CN}(1,0)} \n",
    "$$\n",
    "$$ \n",
    "H_0 = 4 I\\otimes I + -0.75 (\\swap Z \\otimes I \\swap) + -2.75 Z\\otimes I + -0.5 (\\cnot Z \\otimes I \\cnot) \n",
    "$$\n",
    "\n",
    "$$\n",
    "H_{\\mathrm{I}}=H_x\\sigma_x\\otimes\\sigma_x+H_z\\sigma_z\\otimes\\sigma_z,\n",
    "$$H\n",
    "Rewrite $X$ into $I \\otimes Z$\n",
    "$$\n",
    "H_I = H_x (I \\otimes \\sigma_z) (\\sigma_z \\otimes I) + H_z (\\sigma_z \\otimes I) (I \\otimes \\sigma_z)\n",
    "$$\n",
    "\n",
    "$$\n",
    "H_I = \\lambda (Hx \\swap Z \\otimes I \\swap) + \\lambda (Hz \\cnot Z \\otimes I \\cnot)\n",
    "$$\n",
    "\n",
    "$$\n",
    "\\begin{aligned}\n",
    "H = H_0 + H_I = &4 \\: I\\otimes I \\\\\n",
    "&+ (-0.75 + \\lambda Hx) \\: (\\swap Z \\otimes I \\swap) \\\\\n",
    "&+ -2.75 \\: Z \\otimes I \\\\\n",
    "&+ (-0.5 + \\lambda Hz) \\:(\\cnot Z \\otimes I \\cnot) \\\\\n",
    "\\end{aligned}\n"
   ]
  },
  {
   "cell_type": "code",
   "execution_count": 5,
   "metadata": {},
   "outputs": [
    {
     "data": {
      "text/plain": [
       "PauliSumOp(SparsePauliOp(['II', 'IZ', 'ZI', 'ZZ', 'XX'],\n",
       "              coeffs=[ 4.  +0.j, -0.75+0.j, -2.75+0.j, -0.5 +0.j,  0.  +0.j]), coeff=1.0)"
      ]
     },
     "execution_count": 5,
     "metadata": {},
     "output_type": "execute_result"
    }
   ],
   "source": [
    "def H(lmb): \n",
    "    return PauliSumOp.from_list([('II', 4),\n",
    "                                 ('IZ', (-0.75)),\n",
    "                                 ('ZI', (-2.75)),\n",
    "                                 ('ZZ', (-0.5 + lmb * Hz)),\n",
    "                                 ('XX', (lmb * Hx))])\n",
    "\n",
    "H(0)\n"
   ]
  },
  {
   "attachments": {},
   "cell_type": "markdown",
   "metadata": {},
   "source": [
    "Set up"
   ]
  },
  {
   "cell_type": "code",
   "execution_count": 27,
   "metadata": {},
   "outputs": [],
   "source": [
    "def ansatz():\n",
    "    '''creates an ansatz for vqe\n",
    "    inputs:\n",
    "        n: int, number of qubits\n",
    "    return:\n",
    "        qc: QuantumCircuit object, parametrized quantum circuit with given number of qubits, with parameters \n",
    "        thetas and phis\n",
    "        '''\n",
    "    # TODO: maybe can be changed to Hartree Fock initial state? \n",
    "    # from HartreeFock.construct_circuit()\n",
    "    n=2\n",
    "    qc = QuantumCircuit(n)\n",
    "    theta0 = Parameter('theta0')\n",
    "    phi0 = Parameter('phi0')\n",
    "    theta1 = Parameter('theta1')\n",
    "    phi1 = Parameter('phi1')\n",
    "\n",
    "    qc.rx(theta0,0)\n",
    "    qc.ry(phi0,0)\n",
    "    qc.rx(theta1,1)\n",
    "    qc.ry(phi1,1)\n",
    "    qc.cx(0,1)\n",
    "    \n",
    "    return qc\n",
    "\n",
    "def prep_vqe(n):\n",
    "    '''input:\n",
    "        n: int, number of qubits'''\n",
    "    adam = ADAM(maxiter = 10000)\n",
    "    slsqp = SLSQP(maxiter = 10000)\n",
    "    cobyla = COBYLA(maxiter = 500)\n",
    "    # backend = Aer.get_backend('qasm_simulator')\n",
    "    estimator = Estimator()\n",
    "\n",
    "    vqe = VQE(ansatz=ansatz(), \n",
    "              optimizer=slsqp, \n",
    "              initial_point=np.random.uniform(low=-np.pi, high=np.pi, size=2*n), \n",
    "              estimator=estimator)\n",
    "\n",
    "    return vqe\n",
    "# vqe is sucessful becuase we enbed 2 qubit gates which, which creates highly entangled states. \n",
    "# Allowing us to explore multiple states at the same time. thetas needed for an n_qubit state doesn't have to scale exponentially with the number of qubits, but only linearly.\n",
    "\n"
   ]
  },
  {
   "cell_type": "code",
   "execution_count": 37,
   "metadata": {},
   "outputs": [],
   "source": [
    "n_points=100\n",
    "n_qubits=2\n",
    "\n",
    "lmbs = np.arange(n_points) # rmb to divide when used\n",
    "vqe = prep_vqe(n_qubits)\n",
    "energies = np.zeros(n_points) # containers for the energies\n",
    "\n",
    "for i, lmb in enumerate(lmbs):\n",
    "    lmb = lmb / n_points\n",
    "    ham = H(lmb)\n",
    "    # print(ham)\n",
    "    result = vqe.compute_minimum_eigenvalue(ham)\n",
    "    energies[i] = result.eigenvalue.real\n",
    "    # print(f'lmb = {lmb}, energy = {result.eigenvalue.real}')\n",
    "\n",
    "\n"
   ]
  },
  {
   "cell_type": "code",
   "execution_count": 39,
   "metadata": {},
   "outputs": [],
   "source": [
    "# THIS ONE IS WILD\n",
    "plt.plot(lmbs/n_points, energies)\n",
    "# plot_2D(lmbs/n_points, energies, title=\"Ground State Energy for 2 qubits with qiskit\", x_title=r'$\\lambda$', y_title='Energy',\n",
    "        # filename='qk-2.pdf'), \n",
    "save_fig('qk-1qb.pdf')\n",
    "\n",
    "plt.show()"
   ]
  },
  {
   "attachments": {},
   "cell_type": "markdown",
   "metadata": {},
   "source": [
    "With **src.base**\n",
    "$$\n",
    "\\begin{aligned}\n",
    "H = H_0 + H_I = &4 \\: I\\otimes I \\\\\n",
    "&+ (-0.75 ) \\: (\\swap Z \\otimes I \\swap) \\\\\n",
    "&+ -2.75 \\: Z \\otimes I \\\\\n",
    "&+ (-0.5 + \\lambda Hz) \\:(\\cnot Z \\otimes I \\cnot) \\\\\n",
    "&+ \\lambda Hx \\: (H \\otimes H \\cnot Z \\otimes I \\cnot H \\otimes H)\n",
    "\\end{aligned}"
   ]
  },
  {
   "cell_type": "code",
   "execution_count": 41,
   "metadata": {},
   "outputs": [
    {
     "data": {
      "text/plain": [
       "1.4908000000000001"
      ]
     },
     "execution_count": 41,
     "metadata": {},
     "output_type": "execute_result"
    }
   ],
   "source": [
    "\n",
    "def my_ansatz(params):\n",
    "    '''params: list of parameters for the ansatz, [thetas, phis]'''\n",
    "    qc = Qubits_2()\n",
    "    qc.rx(params[0], 0)\n",
    "    qc.ry(params[1], 0)\n",
    "    qc.rx(params[2], 1)\n",
    "    qc.ry(params[3], 1)\n",
    "    qc.cnot(0, 1)\n",
    "    return qc\n",
    "\n",
    "def my_H(lmb):\n",
    "    return pauli_sum([('II', 4),\n",
    "            ('IZ', (-0.75)),\n",
    "            ('ZI', (-2.75)),\n",
    "            ('ZZ', (-0.5 + lmb * Hz)),\n",
    "            ('XX', (lmb * Hx))])\n",
    "\n",
    "def expectation(qc, lmb, n_shots=10000):\n",
    "    '''the expectation value of energy for the hamiltonian'''\n",
    "    coeffs = {'II':4, 'IZ':-0.75, 'ZI':-2.75, 'ZZ': -0.5 + lmb * Hz, 'XX':lmb * Hx}\n",
    "    qc_copy = qc.copy()\n",
    "\n",
    "    # IZ\n",
    "    qc_copy.swap() \n",
    "    count_iz = qc_copy.measure(n_shots=n_shots)[:,0] # only the couonts, don't keep the states\n",
    "\n",
    "    # ZI\n",
    "    qc_copy = qc.copy() # make a new copy everytime\n",
    "    count_zi = qc_copy.measure(n_shots=n_shots)[:,0]\n",
    "\n",
    "    # ZZ\n",
    "    qc_copy = qc.copy()\n",
    "    qc_copy.cnot(1,0)\n",
    "    count_zz = qc_copy.measure(n_shots=n_shots)[:,0]\n",
    "\n",
    "    # XX\n",
    "    qc_copy = qc.copy()\n",
    "    qc_copy.hadamard(0)\n",
    "    qc_copy.hadamard(1)\n",
    "    qc_copy.cnot(1,0)\n",
    "\n",
    "    count_xx = qc_copy.measure(n_shots=n_shots)[:,0]\n",
    "\n",
    "    expectaions = 0\n",
    "    # ZI = (#00 + #01 - #10 - #11)/ number of shots\n",
    "    # print(count_iz, count_zi, count_zz, count_xx)\n",
    "    counts = [coeffs['IZ'] * count_iz, coeffs['ZI'] * count_zi, \n",
    "              coeffs['ZZ'] * count_zz, coeffs['XX'] * count_xx]\n",
    "    # print(counts)\n",
    "    for count in counts:\n",
    "        # print(count)\n",
    "        for i, state_count in enumerate(count):\n",
    "            if i < 2:\n",
    "                expectaions += state_count\n",
    "            else:\n",
    "                expectaions -= state_count\n",
    "    return coeffs['II'] + expectaions / n_shots\n",
    "\n",
    "\n",
    "qc = Qubits_2()\n",
    "expectation(qc, 0.5)\n"
   ]
  },
  {
   "cell_type": "code",
   "execution_count": 42,
   "metadata": {},
   "outputs": [],
   "source": [
    "from algorithms import Vqe "
   ]
  },
  {
   "cell_type": "code",
   "execution_count": 48,
   "metadata": {},
   "outputs": [],
   "source": [
    "n_points = 100\n",
    "\n",
    "init_points = np.random.uniform(low=-np.pi, high=np.pi, size=4)\n",
    "my_vqe = Vqe(my_ansatz, init_points, expectation=expectation)\n",
    "\n",
    "my_energies = np.zeros(n_points)\n",
    "lmbs = np.arange(n_points)\n",
    "for i, lmb in enumerate(lmbs):\n",
    "    lmb = lmb / n_points\n",
    "    my_ham = my_H(lmb)\n",
    "    min_params, min_energy = my_vqe.minimise_eigenvalue(my_ham, lmb, 1000)\n",
    "    # print(f\"lambda: {lmb}, energy: {min_energy}\")\n",
    "    my_energies[i] = min_energy\n",
    "\n"
   ]
  },
  {
   "cell_type": "code",
   "execution_count": 50,
   "metadata": {},
   "outputs": [],
   "source": [
    "lmbs = lmbs/n_points\n",
    "plot_2D(lmbs, [my_energies,energies, eigs[0]], plot_count=3, title='Ground State Energy Solver Comparison', x_title=r'$\\lambda$', y_title='Eigenvalues', label=['vqe-base','vqe-qk', 'numerical'],\n",
    "        filename='2qb-all.pdf')\n"
   ]
  },
  {
   "attachments": {},
   "cell_type": "markdown",
   "metadata": {},
   "source": []
  },
  {
   "cell_type": "code",
   "execution_count": null,
   "metadata": {},
   "outputs": [],
   "source": []
  }
 ],
 "metadata": {
  "kernelspec": {
   "display_name": "qiskit",
   "language": "python",
   "name": "python3"
  },
  "language_info": {
   "codemirror_mode": {
    "name": "ipython",
    "version": 3
   },
   "file_extension": ".py",
   "mimetype": "text/x-python",
   "name": "python",
   "nbconvert_exporter": "python",
   "pygments_lexer": "ipython3",
   "version": "3.8.16"
  },
  "orig_nbformat": 4
 },
 "nbformat": 4,
 "nbformat_minor": 2
}
